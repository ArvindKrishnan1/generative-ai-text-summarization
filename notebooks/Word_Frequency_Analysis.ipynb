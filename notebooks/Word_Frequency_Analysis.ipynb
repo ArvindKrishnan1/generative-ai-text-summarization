{
 "cells": [
  {
   "cell_type": "markdown",
   "id": "56be19a4-f3c9-41d2-b38f-e13005a9e8ee",
   "metadata": {},
   "source": [
    "# Word Frequency Analysis"
   ]
  },
  {
   "cell_type": "code",
   "execution_count": null,
   "id": "dd065577-2f3a-40f3-abab-2ffb91c54bc5",
   "metadata": {},
   "outputs": [],
   "source": [
    "# Splitting dataframes by category\n",
    "\n",
    "index_one = df_train['Class Index'] == 1\n",
    "df_index_one = df_train[index_one]\n",
    "\n",
    "index_two = df_train['Class Index'] == 2\n",
    "df_index_two = df_train[index_two]\n",
    "\n",
    "index_three = df_train['Class Index'] == 3\n",
    "df_index_three = df_train[index_three]\n",
    "\n",
    "index_four = df_train['Class Index'] == 4\n",
    "df_index_four = df_train[index_four]"
   ]
  },
  {
   "cell_type": "code",
   "execution_count": null,
   "id": "0219bbec-f993-4068-b465-c1914d6af50c",
   "metadata": {},
   "outputs": [],
   "source": [
    "# Gather most common words for category World News\n",
    "\n",
    "index_list_one = ' '.join(df_index_one['Title']).split()\n",
    "word_counts_one = Counter(index_list_one)\n",
    "one_common_words = word_counts_one.most_common(30)\n",
    "print(\"\\nWorld News - Most Common Words:\")\n",
    "print(one_common_words)"
   ]
  },
  {
   "cell_type": "code",
   "execution_count": null,
   "id": "85906bc7-4091-4642-828a-572ea6f2b0b0",
   "metadata": {},
   "outputs": [],
   "source": [
    "# Gather most common words for category Sports News\n",
    "\n",
    "index_list_two = ' '.join(df_index_two['Title']).split()\n",
    "word_counts_two = Counter(index_list_two)\n",
    "two_common_words = word_counts_two.most_common(30)\n",
    "print(\"\\nSports News - Most Common Words:\")\n",
    "print(two_common_words)"
   ]
  },
  {
   "cell_type": "code",
   "execution_count": null,
   "id": "b654231a-fdc6-40b4-b1b5-33f08d4c2bd6",
   "metadata": {},
   "outputs": [],
   "source": [
    "# Gather most common words for category Business News\n",
    "\n",
    "index_list_three = ' '.join(df_index_three['Title']).split()\n",
    "word_counts_three = Counter(index_list_three)\n",
    "three_common_words = word_counts_three.most_common(30)\n",
    "print(\"\\nBusiness News - Most Common Words:\")\n",
    "print(three_common_words)"
   ]
  },
  {
   "cell_type": "code",
   "execution_count": null,
   "id": "b1e66225-91d4-4677-9cb0-e5c6e1351bfd",
   "metadata": {},
   "outputs": [],
   "source": [
    "# Gather most common words for category Sci/Tech News\n",
    "\n",
    "index_list_four = ' '.join(df_index_four['Title']).split()\n",
    "word_counts_four = Counter(index_list_four)\n",
    "four_common_words = word_counts_four.most_common(30)\n",
    "print(\"\\nSci/Tech News - Most Common Words:\")\n",
    "print(four_common_words)"
   ]
  },
  {
   "cell_type": "code",
   "execution_count": null,
   "id": "07c64aa8-28f5-45b0-a02e-807ec7200fc1",
   "metadata": {},
   "outputs": [],
   "source": [
    "# Vizualize word frequency for World News\n",
    "\n",
    "plt.figure(figsize=(10, 6))\n",
    "sns.barplot(x=[word[0] for word in one_common_words], y=[word[1] for word in one_common_words])\n",
    "plt.title('Most Common Words in World News')\n",
    "plt.xlabel('Word')\n",
    "plt.ylabel('Frequency')\n",
    "plt.xticks(rotation=60)\n",
    "plt.show()"
   ]
  },
  {
   "cell_type": "code",
   "execution_count": null,
   "id": "3806b44c-0c28-4f32-93de-f0b655baf470",
   "metadata": {},
   "outputs": [],
   "source": [
    "# Vizualize word frequency for Business News\n",
    "\n",
    "plt.figure(figsize=(10, 6))\n",
    "sns.barplot(x=[word[0] for word in two_common_words], y=[word[1] for word in two_common_words])\n",
    "plt.title('Most Common Words in Sports News')\n",
    "plt.xlabel('Word')\n",
    "plt.ylabel('Frequency')\n",
    "plt.xticks(rotation=60)\n",
    "plt.show()"
   ]
  },
  {
   "cell_type": "code",
   "execution_count": null,
   "id": "4d5e3986-8e78-4748-81c9-8f9711a0e3f6",
   "metadata": {},
   "outputs": [],
   "source": [
    "# Vizualize word frequency for World News\n",
    "\n",
    "plt.figure(figsize=(10, 6))\n",
    "sns.barplot(x=[word[0] for word in three_common_words], y=[word[1] for word in three_common_words])\n",
    "plt.title('Most Common Words in Business News')\n",
    "plt.xlabel('Word')\n",
    "plt.ylabel('Frequency')\n",
    "plt.xticks(rotation=60)\n",
    "plt.show()"
   ]
  },
  {
   "cell_type": "code",
   "execution_count": null,
   "id": "11c00d01-429a-4c92-be57-528adda85991",
   "metadata": {},
   "outputs": [],
   "source": [
    "# Vizualize word frequency for World News\n",
    "\n",
    "plt.figure(figsize=(10, 6))\n",
    "sns.barplot(x=[word[0] for word in four_common_words], y=[word[1] for word in four_common_words])\n",
    "plt.title('Most Common Words in Sci/Tech News')\n",
    "plt.xlabel('Word')\n",
    "plt.ylabel('Frequency')\n",
    "plt.xticks(rotation=60)\n",
    "plt.show()"
   ]
  }
 ],
 "metadata": {
  "kernelspec": {
   "display_name": "venv",
   "language": "python",
   "name": "venv"
  },
  "language_info": {
   "codemirror_mode": {
    "name": "ipython",
    "version": 3
   },
   "file_extension": ".py",
   "mimetype": "text/x-python",
   "name": "python",
   "nbconvert_exporter": "python",
   "pygments_lexer": "ipython3",
   "version": "3.11.7"
  }
 },
 "nbformat": 4,
 "nbformat_minor": 5
}
