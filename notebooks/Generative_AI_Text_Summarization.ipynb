{
 "cells": [
  {
   "cell_type": "markdown",
   "id": "b1224ff1-aeff-4e29-b202-481832e55ab0",
   "metadata": {},
   "source": [
    "# Generative AI Text Summarization"
   ]
  },
  {
   "cell_type": "code",
   "execution_count": null,
   "id": "f74f721d-2a43-4fca-8e29-9ef7708c75cf",
   "metadata": {},
   "outputs": [],
   "source": []
  },
  {
   "cell_type": "code",
   "execution_count": 106,
   "id": "882e6f12-da61-4f0b-ab64-3526080a77b0",
   "metadata": {},
   "outputs": [],
   "source": [
    "# imports\n",
    "\n",
    "from sklearn.metrics.pairwise import cosine_similarity\n",
    "import matplotlib.pyplot as plt\n",
    "import seaborn as sns\n",
    "import opendatasets as od\n",
    "import pandas as pd\n",
    "from sklearn.model_selection import train_test_split\n",
    "import numpy as np\n",
    "from openai import OpenAI\n",
    "import os\n",
    "from dotenv import load_dotenv\n",
    "import s3fs\n",
    "import fs_s3fs\n",
    "import fsspec\n",
    "import json\n",
    "from llama_index.core import TreeIndex, SimpleDirectoryReader\n",
    "from sklearn.metrics import f1_score, accuracy_score\n",
    "from sklearn.metrics import confusion_matrix\n",
    "from sklearn.linear_model import SGDClassifier\n",
    "import tensorflow as tf\n",
    "import keras\n",
    "import transformers\n",
    "import mlflow\n",
    "import hyperopt as hp\n",
    "import sphinx\n",
    "import re\n",
    "import nltk\n",
    "from nltk.corpus import stopwords\n",
    "from nltk.tokenize import word_tokenize\n",
    "from nltk.stem import WordNetLemmatizer\n",
    "from sklearn.feature_extraction.text import TfidfVectorizer\n",
    "from collections import Counter"
   ]
  },
  {
   "cell_type": "code",
   "execution_count": 2,
   "id": "2fbad013-ca4e-4666-9764-f040416cb0d6",
   "metadata": {},
   "outputs": [
    {
     "name": "stderr",
     "output_type": "stream",
     "text": [
      "[nltk_data] Downloading package stopwords to\n",
      "[nltk_data]     C:\\Users\\nickr\\AppData\\Roaming\\nltk_data...\n",
      "[nltk_data]   Package stopwords is already up-to-date!\n"
     ]
    },
    {
     "data": {
      "text/plain": [
       "True"
      ]
     },
     "execution_count": 2,
     "metadata": {},
     "output_type": "execute_result"
    }
   ],
   "source": [
    "# download stopwords\n",
    "\n",
    "nltk.download('stopwords')"
   ]
  },
  {
   "cell_type": "code",
   "execution_count": 3,
   "id": "762117e8-eeaf-45ea-98d6-4bbfca6447d5",
   "metadata": {},
   "outputs": [],
   "source": [
    "pd.set_option('display.max_colwidth', None)"
   ]
  },
  {
   "cell_type": "code",
   "execution_count": 4,
   "id": "648def37-b389-46cd-a7d8-a0344a83439a",
   "metadata": {},
   "outputs": [
    {
     "name": "stdout",
     "output_type": "stream",
     "text": [
      "Please provide your Kaggle credentials to download this dataset. Learn more: http://bit.ly/kaggle-creds\n",
      "Your Kaggle username:"
     ]
    },
    {
     "ename": "Abort",
     "evalue": "",
     "output_type": "error",
     "traceback": [
      "\u001b[1;31m---------------------------------------------------------------------------\u001b[0m",
      "\u001b[1;31mAbort\u001b[0m                                     Traceback (most recent call last)",
      "Cell \u001b[1;32mIn[4], line 4\u001b[0m\n\u001b[0;32m      1\u001b[0m \u001b[38;5;66;03m# Download dataset from Kaggle\u001b[39;00m\n\u001b[0;32m      3\u001b[0m dataset \u001b[38;5;241m=\u001b[39m \u001b[38;5;124m\"\u001b[39m\u001b[38;5;124mhttps://www.kaggle.com/datasets/amananandrai/ag-news-classification-dataset/data\u001b[39m\u001b[38;5;124m\"\u001b[39m\n\u001b[1;32m----> 4\u001b[0m \u001b[43mod\u001b[49m\u001b[38;5;241;43m.\u001b[39;49m\u001b[43mdownload\u001b[49m\u001b[43m(\u001b[49m\u001b[43mdataset\u001b[49m\u001b[43m)\u001b[49m\n",
      "File \u001b[1;32m~\\OneDrive\\Documents\\GitHub\\generative-ai-text-summarization\\config\\Lib\\site-packages\\opendatasets\\__init__.py:13\u001b[0m, in \u001b[0;36mdownload\u001b[1;34m(dataset_id_or_url, data_dir, force, dry_run, **kwargs)\u001b[0m\n\u001b[0;32m     10\u001b[0m \u001b[38;5;28;01mdef\u001b[39;00m \u001b[38;5;21mdownload\u001b[39m(dataset_id_or_url, data_dir\u001b[38;5;241m=\u001b[39m\u001b[38;5;124m'\u001b[39m\u001b[38;5;124m.\u001b[39m\u001b[38;5;124m'\u001b[39m, force\u001b[38;5;241m=\u001b[39m\u001b[38;5;28;01mFalse\u001b[39;00m, dry_run\u001b[38;5;241m=\u001b[39m\u001b[38;5;28;01mFalse\u001b[39;00m, \u001b[38;5;241m*\u001b[39m\u001b[38;5;241m*\u001b[39mkwargs):\n\u001b[0;32m     11\u001b[0m     \u001b[38;5;66;03m# Check for a Kaggle dataset URL\u001b[39;00m\n\u001b[0;32m     12\u001b[0m     \u001b[38;5;28;01mif\u001b[39;00m is_kaggle_url(dataset_id_or_url):\n\u001b[1;32m---> 13\u001b[0m         \u001b[38;5;28;01mreturn\u001b[39;00m \u001b[43mdownload_kaggle_dataset\u001b[49m\u001b[43m(\u001b[49m\u001b[43mdataset_id_or_url\u001b[49m\u001b[43m,\u001b[49m\u001b[43m \u001b[49m\u001b[43mdata_dir\u001b[49m\u001b[38;5;241;43m=\u001b[39;49m\u001b[43mdata_dir\u001b[49m\u001b[43m,\u001b[49m\u001b[43m \u001b[49m\u001b[43mforce\u001b[49m\u001b[38;5;241;43m=\u001b[39;49m\u001b[43mforce\u001b[49m\u001b[43m,\u001b[49m\u001b[43m \u001b[49m\u001b[43mdry_run\u001b[49m\u001b[38;5;241;43m=\u001b[39;49m\u001b[43mdry_run\u001b[49m\u001b[43m)\u001b[49m\n\u001b[0;32m     15\u001b[0m     \u001b[38;5;66;03m# Check for Google Drive URL\u001b[39;00m\n\u001b[0;32m     16\u001b[0m     \u001b[38;5;28;01mif\u001b[39;00m is_google_drive_url(dataset_id_or_url):\n",
      "File \u001b[1;32m~\\OneDrive\\Documents\\GitHub\\generative-ai-text-summarization\\config\\Lib\\site-packages\\opendatasets\\utils\\kaggle_api.py:46\u001b[0m, in \u001b[0;36mdownload_kaggle_dataset\u001b[1;34m(dataset_url, data_dir, force, dry_run)\u001b[0m\n\u001b[0;32m     44\u001b[0m \u001b[38;5;28;01mif\u001b[39;00m \u001b[38;5;129;01mnot\u001b[39;00m read_kaggle_creds():\n\u001b[0;32m     45\u001b[0m     \u001b[38;5;28mprint\u001b[39m(\u001b[38;5;124m\"\u001b[39m\u001b[38;5;124mPlease provide your Kaggle credentials to download this dataset. Learn more: http://bit.ly/kaggle-creds\u001b[39m\u001b[38;5;124m\"\u001b[39m)\n\u001b[1;32m---> 46\u001b[0m     os\u001b[38;5;241m.\u001b[39menviron[\u001b[38;5;124m'\u001b[39m\u001b[38;5;124mKAGGLE_USERNAME\u001b[39m\u001b[38;5;124m'\u001b[39m] \u001b[38;5;241m=\u001b[39m \u001b[43mclick\u001b[49m\u001b[38;5;241;43m.\u001b[39;49m\u001b[43mprompt\u001b[49m\u001b[43m(\u001b[49m\u001b[38;5;124;43m\"\u001b[39;49m\u001b[38;5;124;43mYour Kaggle username\u001b[39;49m\u001b[38;5;124;43m\"\u001b[39;49m\u001b[43m)\u001b[49m\n\u001b[0;32m     47\u001b[0m     os\u001b[38;5;241m.\u001b[39menviron[\u001b[38;5;124m'\u001b[39m\u001b[38;5;124mKAGGLE_KEY\u001b[39m\u001b[38;5;124m'\u001b[39m] \u001b[38;5;241m=\u001b[39m _get_kaggle_key()\n\u001b[0;32m     49\u001b[0m \u001b[38;5;28;01mif\u001b[39;00m \u001b[38;5;129;01mnot\u001b[39;00m dry_run:\n",
      "File \u001b[1;32m~\\OneDrive\\Documents\\GitHub\\generative-ai-text-summarization\\config\\Lib\\site-packages\\click\\termui.py:164\u001b[0m, in \u001b[0;36mprompt\u001b[1;34m(text, default, hide_input, confirmation_prompt, type, value_proc, prompt_suffix, show_default, err, show_choices)\u001b[0m\n\u001b[0;32m    162\u001b[0m \u001b[38;5;28;01mwhile\u001b[39;00m \u001b[38;5;28;01mTrue\u001b[39;00m:\n\u001b[0;32m    163\u001b[0m     \u001b[38;5;28;01mwhile\u001b[39;00m \u001b[38;5;28;01mTrue\u001b[39;00m:\n\u001b[1;32m--> 164\u001b[0m         value \u001b[38;5;241m=\u001b[39m \u001b[43mprompt_func\u001b[49m\u001b[43m(\u001b[49m\u001b[43mprompt\u001b[49m\u001b[43m)\u001b[49m\n\u001b[0;32m    165\u001b[0m         \u001b[38;5;28;01mif\u001b[39;00m value:\n\u001b[0;32m    166\u001b[0m             \u001b[38;5;28;01mbreak\u001b[39;00m\n",
      "File \u001b[1;32m~\\OneDrive\\Documents\\GitHub\\generative-ai-text-summarization\\config\\Lib\\site-packages\\click\\termui.py:147\u001b[0m, in \u001b[0;36mprompt.<locals>.prompt_func\u001b[1;34m(text)\u001b[0m\n\u001b[0;32m    145\u001b[0m \u001b[38;5;28;01mif\u001b[39;00m hide_input:\n\u001b[0;32m    146\u001b[0m     echo(\u001b[38;5;28;01mNone\u001b[39;00m, err\u001b[38;5;241m=\u001b[39merr)\n\u001b[1;32m--> 147\u001b[0m \u001b[38;5;28;01mraise\u001b[39;00m Abort() \u001b[38;5;28;01mfrom\u001b[39;00m \u001b[38;5;28;01mNone\u001b[39;00m\n",
      "\u001b[1;31mAbort\u001b[0m: "
     ]
    }
   ],
   "source": [
    "# Download dataset from Kaggle\n",
    "\n",
    "dataset = \"https://www.kaggle.com/datasets/amananandrai/ag-news-classification-dataset/data\"\n",
    "od.download(dataset)"
   ]
  },
  {
   "cell_type": "code",
   "execution_count": 5,
   "id": "a2f5b57f-b8de-46d5-a7fd-f5de9f7b5573",
   "metadata": {},
   "outputs": [],
   "source": [
    "# Read dataset, import only 30000 rows of data\n",
    "\n",
    "df = pd.read_csv(r'C:\\Users\\nickr\\OneDrive\\Documents\\GitHub\\generative-ai-text-summarization\\data\\ag-news-classification-dataset\\ag_news.csv',nrows=30000)"
   ]
  },
  {
   "cell_type": "code",
   "execution_count": 6,
   "id": "24ceb048-4a45-4b4e-ad52-44b5918d6dd1",
   "metadata": {},
   "outputs": [
    {
     "data": {
      "text/plain": [
       "(30000, 3)"
      ]
     },
     "execution_count": 6,
     "metadata": {},
     "output_type": "execute_result"
    }
   ],
   "source": [
    "df.shape"
   ]
  },
  {
   "cell_type": "code",
   "execution_count": 7,
   "id": "f506ecfc-e26c-4ecb-9469-1ee0567b8621",
   "metadata": {},
   "outputs": [],
   "source": [
    "df['Class Index']=df['Class Index'].astype('category') # Change Class Index to categorical variable"
   ]
  },
  {
   "cell_type": "code",
   "execution_count": 8,
   "id": "7925624a-4c1d-4927-808f-5975d06b0384",
   "metadata": {},
   "outputs": [
    {
     "data": {
      "text/html": [
       "<div>\n",
       "<style scoped>\n",
       "    .dataframe tbody tr th:only-of-type {\n",
       "        vertical-align: middle;\n",
       "    }\n",
       "\n",
       "    .dataframe tbody tr th {\n",
       "        vertical-align: top;\n",
       "    }\n",
       "\n",
       "    .dataframe thead th {\n",
       "        text-align: right;\n",
       "    }\n",
       "</style>\n",
       "<table border=\"1\" class=\"dataframe\">\n",
       "  <thead>\n",
       "    <tr style=\"text-align: right;\">\n",
       "      <th></th>\n",
       "      <th>Class Index</th>\n",
       "      <th>Title</th>\n",
       "      <th>Description</th>\n",
       "    </tr>\n",
       "  </thead>\n",
       "  <tbody>\n",
       "    <tr>\n",
       "      <th>0</th>\n",
       "      <td>3</td>\n",
       "      <td>Wall St. Bears Claw Back Into the Black (Reuters)</td>\n",
       "      <td>Reuters - Short-sellers, Wall Street's dwindling\\band of ultra-cynics, are seeing green again.</td>\n",
       "    </tr>\n",
       "    <tr>\n",
       "      <th>1</th>\n",
       "      <td>3</td>\n",
       "      <td>Carlyle Looks Toward Commercial Aerospace (Reuters)</td>\n",
       "      <td>Reuters - Private investment firm Carlyle Group,\\which has a reputation for making well-timed and occasionally\\controversial plays in the defense industry, has quietly placed\\its bets on another part of the market.</td>\n",
       "    </tr>\n",
       "    <tr>\n",
       "      <th>2</th>\n",
       "      <td>3</td>\n",
       "      <td>Oil and Economy Cloud Stocks' Outlook (Reuters)</td>\n",
       "      <td>Reuters - Soaring crude prices plus worries\\about the economy and the outlook for earnings are expected to\\hang over the stock market next week during the depth of the\\summer doldrums.</td>\n",
       "    </tr>\n",
       "    <tr>\n",
       "      <th>3</th>\n",
       "      <td>3</td>\n",
       "      <td>Iraq Halts Oil Exports from Main Southern Pipeline (Reuters)</td>\n",
       "      <td>Reuters - Authorities have halted oil export\\flows from the main pipeline in southern Iraq after\\intelligence showed a rebel militia could strike\\infrastructure, an oil official said on Saturday.</td>\n",
       "    </tr>\n",
       "    <tr>\n",
       "      <th>4</th>\n",
       "      <td>3</td>\n",
       "      <td>Oil prices soar to all-time record, posing new menace to US economy (AFP)</td>\n",
       "      <td>AFP - Tearaway world oil prices, toppling records and straining wallets, present a new economic menace barely three months before the US presidential elections.</td>\n",
       "    </tr>\n",
       "    <tr>\n",
       "      <th>5</th>\n",
       "      <td>3</td>\n",
       "      <td>Stocks End Up, But Near Year Lows (Reuters)</td>\n",
       "      <td>Reuters - Stocks ended slightly higher on Friday\\but stayed near lows for the year as oil prices surged past  #36;46\\a barrel, offsetting a positive outlook from computer maker\\Dell Inc. (DELL.O)</td>\n",
       "    </tr>\n",
       "    <tr>\n",
       "      <th>6</th>\n",
       "      <td>3</td>\n",
       "      <td>Money Funds Fell in Latest Week (AP)</td>\n",
       "      <td>AP - Assets of the nation's retail money market mutual funds fell by  #36;1.17 billion in the latest week to  #36;849.98 trillion, the Investment Company Institute said Thursday.</td>\n",
       "    </tr>\n",
       "    <tr>\n",
       "      <th>7</th>\n",
       "      <td>3</td>\n",
       "      <td>Fed minutes show dissent over inflation (USATODAY.com)</td>\n",
       "      <td>USATODAY.com - Retail sales bounced back a bit in July, and new claims for jobless benefits fell last week, the government said Thursday, indicating the economy is improving from a midsummer slump.</td>\n",
       "    </tr>\n",
       "  </tbody>\n",
       "</table>\n",
       "</div>"
      ],
      "text/plain": [
       "  Class Index  \\\n",
       "0           3   \n",
       "1           3   \n",
       "2           3   \n",
       "3           3   \n",
       "4           3   \n",
       "5           3   \n",
       "6           3   \n",
       "7           3   \n",
       "\n",
       "                                                                       Title  \\\n",
       "0                          Wall St. Bears Claw Back Into the Black (Reuters)   \n",
       "1                        Carlyle Looks Toward Commercial Aerospace (Reuters)   \n",
       "2                            Oil and Economy Cloud Stocks' Outlook (Reuters)   \n",
       "3               Iraq Halts Oil Exports from Main Southern Pipeline (Reuters)   \n",
       "4  Oil prices soar to all-time record, posing new menace to US economy (AFP)   \n",
       "5                                Stocks End Up, But Near Year Lows (Reuters)   \n",
       "6                                       Money Funds Fell in Latest Week (AP)   \n",
       "7                     Fed minutes show dissent over inflation (USATODAY.com)   \n",
       "\n",
       "                                                                                                                                                                                                              Description  \n",
       "0                                                                                                                          Reuters - Short-sellers, Wall Street's dwindling\\band of ultra-cynics, are seeing green again.  \n",
       "1  Reuters - Private investment firm Carlyle Group,\\which has a reputation for making well-timed and occasionally\\controversial plays in the defense industry, has quietly placed\\its bets on another part of the market.  \n",
       "2                                Reuters - Soaring crude prices plus worries\\about the economy and the outlook for earnings are expected to\\hang over the stock market next week during the depth of the\\summer doldrums.  \n",
       "3                     Reuters - Authorities have halted oil export\\flows from the main pipeline in southern Iraq after\\intelligence showed a rebel militia could strike\\infrastructure, an oil official said on Saturday.  \n",
       "4                                                        AFP - Tearaway world oil prices, toppling records and straining wallets, present a new economic menace barely three months before the US presidential elections.  \n",
       "5                     Reuters - Stocks ended slightly higher on Friday\\but stayed near lows for the year as oil prices surged past  #36;46\\a barrel, offsetting a positive outlook from computer maker\\Dell Inc. (DELL.O)  \n",
       "6                                      AP - Assets of the nation's retail money market mutual funds fell by  #36;1.17 billion in the latest week to  #36;849.98 trillion, the Investment Company Institute said Thursday.  \n",
       "7                   USATODAY.com - Retail sales bounced back a bit in July, and new claims for jobless benefits fell last week, the government said Thursday, indicating the economy is improving from a midsummer slump.  "
      ]
     },
     "execution_count": 8,
     "metadata": {},
     "output_type": "execute_result"
    }
   ],
   "source": [
    "df.head(8) # Confirm importation"
   ]
  },
  {
   "cell_type": "code",
   "execution_count": 149,
   "id": "1f7d7cf5-7a7d-48ce-a814-8b1d2c77da15",
   "metadata": {},
   "outputs": [
    {
     "data": {
      "text/plain": [
       "Class Index        category\n",
       "Title                object\n",
       "Description          object\n",
       "document_length       int64\n",
       "title_length          int64\n",
       "dtype: object"
      ]
     },
     "execution_count": 149,
     "metadata": {},
     "output_type": "execute_result"
    }
   ],
   "source": [
    "df.dtypes"
   ]
  },
  {
   "cell_type": "markdown",
   "id": "53803b54-f203-406b-9cfc-3931fa943371",
   "metadata": {},
   "source": [
    "# Data Cleaning and Preprocessing"
   ]
  },
  {
   "cell_type": "code",
   "execution_count": 9,
   "id": "d737225c-a1f0-4109-abde-5c2d75506d33",
   "metadata": {},
   "outputs": [
    {
     "name": "stdout",
     "output_type": "stream",
     "text": [
      "<class 'pandas.core.frame.DataFrame'>\n",
      "RangeIndex: 30000 entries, 0 to 29999\n",
      "Data columns (total 3 columns):\n",
      " #   Column       Non-Null Count  Dtype   \n",
      "---  ------       --------------  -----   \n",
      " 0   Class Index  30000 non-null  category\n",
      " 1   Title        30000 non-null  object  \n",
      " 2   Description  30000 non-null  object  \n",
      "dtypes: category(1), object(2)\n",
      "memory usage: 10.1 MB\n"
     ]
    }
   ],
   "source": [
    "# find null values and datatypes\n",
    "\n",
    "df.info(memory_usage='deep')"
   ]
  },
  {
   "cell_type": "markdown",
   "id": "4be72a3e-3d19-4901-abdb-7fa1006122fb",
   "metadata": {},
   "source": [
    "There are no null values in the df_train dataset."
   ]
  },
  {
   "cell_type": "code",
   "execution_count": 10,
   "id": "d6816ed8-6b16-4f5a-8e8f-86c6745b22ea",
   "metadata": {},
   "outputs": [
    {
     "data": {
      "text/plain": [
       "0"
      ]
     },
     "execution_count": 10,
     "metadata": {},
     "output_type": "execute_result"
    }
   ],
   "source": [
    "# check for duplicates\n",
    "\n",
    "df.duplicated().sum()"
   ]
  },
  {
   "cell_type": "markdown",
   "id": "e8028175-62cd-4820-a191-1e6ae3652326",
   "metadata": {},
   "source": [
    "There are no duplicate values in the df_train dataset."
   ]
  },
  {
   "cell_type": "code",
   "execution_count": 11,
   "id": "1fc8c488-1f0f-4f07-bf1a-93b1e604194e",
   "metadata": {},
   "outputs": [],
   "source": [
    "# Cleaning data set html, special, and non-textual characters\n",
    "\n",
    "def cleaning_text(text):\n",
    "    # Remove HTML tags\n",
    "    cleaning_text = re.sub('<.*?>', '', text)\n",
    "    # Remove special characters and non-textual \n",
    "    cleaning_text = re.sub(r'([^a-zA-Z\\s]|\\\\b[A-Za-z] \\\\b|\\\\b [A-Za-z]\\\\b)', ' ', cleaning_text) # checks plain text for given characters\n",
    "    return cleaning_text"
   ]
  },
  {
   "cell_type": "code",
   "execution_count": 12,
   "id": "1479d5c2-b4e2-4c30-9faf-3051b423d117",
   "metadata": {},
   "outputs": [],
   "source": [
    "# apply text cleaning to text in both Description and Title\n",
    "\n",
    "df['Title'] = df['Title'].apply(cleaning_text)"
   ]
  },
  {
   "cell_type": "code",
   "execution_count": 13,
   "id": "fa5a1d06-2735-4db7-86ec-acc992362765",
   "metadata": {},
   "outputs": [
    {
     "data": {
      "text/html": [
       "<div>\n",
       "<style scoped>\n",
       "    .dataframe tbody tr th:only-of-type {\n",
       "        vertical-align: middle;\n",
       "    }\n",
       "\n",
       "    .dataframe tbody tr th {\n",
       "        vertical-align: top;\n",
       "    }\n",
       "\n",
       "    .dataframe thead th {\n",
       "        text-align: right;\n",
       "    }\n",
       "</style>\n",
       "<table border=\"1\" class=\"dataframe\">\n",
       "  <thead>\n",
       "    <tr style=\"text-align: right;\">\n",
       "      <th></th>\n",
       "      <th>Class Index</th>\n",
       "      <th>Title</th>\n",
       "      <th>Description</th>\n",
       "    </tr>\n",
       "  </thead>\n",
       "  <tbody>\n",
       "    <tr>\n",
       "      <th>0</th>\n",
       "      <td>3</td>\n",
       "      <td>Wall St  Bears Claw Back Into the Black  Reuters</td>\n",
       "      <td>Reuters - Short-sellers, Wall Street's dwindling\\band of ultra-cynics, are seeing green again.</td>\n",
       "    </tr>\n",
       "    <tr>\n",
       "      <th>1</th>\n",
       "      <td>3</td>\n",
       "      <td>Carlyle Looks Toward Commercial Aerospace  Reuters</td>\n",
       "      <td>Reuters - Private investment firm Carlyle Group,\\which has a reputation for making well-timed and occasionally\\controversial plays in the defense industry, has quietly placed\\its bets on another part of the market.</td>\n",
       "    </tr>\n",
       "    <tr>\n",
       "      <th>2</th>\n",
       "      <td>3</td>\n",
       "      <td>Oil and Economy Cloud Stocks  Outlook  Reuters</td>\n",
       "      <td>Reuters - Soaring crude prices plus worries\\about the economy and the outlook for earnings are expected to\\hang over the stock market next week during the depth of the\\summer doldrums.</td>\n",
       "    </tr>\n",
       "    <tr>\n",
       "      <th>3</th>\n",
       "      <td>3</td>\n",
       "      <td>Iraq Halts Oil Exports from Main Southern Pipeline  Reuters</td>\n",
       "      <td>Reuters - Authorities have halted oil export\\flows from the main pipeline in southern Iraq after\\intelligence showed a rebel militia could strike\\infrastructure, an oil official said on Saturday.</td>\n",
       "    </tr>\n",
       "    <tr>\n",
       "      <th>4</th>\n",
       "      <td>3</td>\n",
       "      <td>Oil prices soar to all time record  posing new menace to US economy  AFP</td>\n",
       "      <td>AFP - Tearaway world oil prices, toppling records and straining wallets, present a new economic menace barely three months before the US presidential elections.</td>\n",
       "    </tr>\n",
       "    <tr>\n",
       "      <th>5</th>\n",
       "      <td>3</td>\n",
       "      <td>Stocks End Up  But Near Year Lows  Reuters</td>\n",
       "      <td>Reuters - Stocks ended slightly higher on Friday\\but stayed near lows for the year as oil prices surged past  #36;46\\a barrel, offsetting a positive outlook from computer maker\\Dell Inc. (DELL.O)</td>\n",
       "    </tr>\n",
       "    <tr>\n",
       "      <th>6</th>\n",
       "      <td>3</td>\n",
       "      <td>Money Funds Fell in Latest Week  AP</td>\n",
       "      <td>AP - Assets of the nation's retail money market mutual funds fell by  #36;1.17 billion in the latest week to  #36;849.98 trillion, the Investment Company Institute said Thursday.</td>\n",
       "    </tr>\n",
       "  </tbody>\n",
       "</table>\n",
       "</div>"
      ],
      "text/plain": [
       "  Class Index  \\\n",
       "0           3   \n",
       "1           3   \n",
       "2           3   \n",
       "3           3   \n",
       "4           3   \n",
       "5           3   \n",
       "6           3   \n",
       "\n",
       "                                                                       Title  \\\n",
       "0                          Wall St  Bears Claw Back Into the Black  Reuters    \n",
       "1                        Carlyle Looks Toward Commercial Aerospace  Reuters    \n",
       "2                            Oil and Economy Cloud Stocks  Outlook  Reuters    \n",
       "3               Iraq Halts Oil Exports from Main Southern Pipeline  Reuters    \n",
       "4  Oil prices soar to all time record  posing new menace to US economy  AFP    \n",
       "5                                Stocks End Up  But Near Year Lows  Reuters    \n",
       "6                                       Money Funds Fell in Latest Week  AP    \n",
       "\n",
       "                                                                                                                                                                                                              Description  \n",
       "0                                                                                                                          Reuters - Short-sellers, Wall Street's dwindling\\band of ultra-cynics, are seeing green again.  \n",
       "1  Reuters - Private investment firm Carlyle Group,\\which has a reputation for making well-timed and occasionally\\controversial plays in the defense industry, has quietly placed\\its bets on another part of the market.  \n",
       "2                                Reuters - Soaring crude prices plus worries\\about the economy and the outlook for earnings are expected to\\hang over the stock market next week during the depth of the\\summer doldrums.  \n",
       "3                     Reuters - Authorities have halted oil export\\flows from the main pipeline in southern Iraq after\\intelligence showed a rebel militia could strike\\infrastructure, an oil official said on Saturday.  \n",
       "4                                                        AFP - Tearaway world oil prices, toppling records and straining wallets, present a new economic menace barely three months before the US presidential elections.  \n",
       "5                     Reuters - Stocks ended slightly higher on Friday\\but stayed near lows for the year as oil prices surged past  #36;46\\a barrel, offsetting a positive outlook from computer maker\\Dell Inc. (DELL.O)  \n",
       "6                                      AP - Assets of the nation's retail money market mutual funds fell by  #36;1.17 billion in the latest week to  #36;849.98 trillion, the Investment Company Institute said Thursday.  "
      ]
     },
     "execution_count": 13,
     "metadata": {},
     "output_type": "execute_result"
    }
   ],
   "source": [
    "df.head(7)"
   ]
  },
  {
   "cell_type": "code",
   "execution_count": 14,
   "id": "0223382e-0fd0-4e2a-a2ce-58bf02a2b5e5",
   "metadata": {},
   "outputs": [],
   "source": [
    "# Create a function to remove stop words\n",
    "\n",
    "stop_words = set(stopwords.words('english'))\n",
    "lemmatizer = WordNetLemmatizer()\n",
    "\n",
    "def preprocess_text(text):\n",
    "    tokens = word_tokenize(text.lower())  # Tokenization and lowercasing\n",
    "    tokens = [word for word in tokens if word not in stop_words]  # Stop word removal\n",
    "    return ' '.join(tokens)"
   ]
  },
  {
   "cell_type": "code",
   "execution_count": 15,
   "id": "904e8790-b96c-4391-96c5-1ceb2209ee41",
   "metadata": {},
   "outputs": [],
   "source": [
    "# apply preprocessing to text in both Description and Title\n",
    "\n",
    "df['Title'] = df['Title'].apply(preprocess_text)"
   ]
  },
  {
   "cell_type": "code",
   "execution_count": 16,
   "id": "85872e09-1b0f-4991-9337-10ffec72a040",
   "metadata": {},
   "outputs": [
    {
     "data": {
      "text/html": [
       "<div>\n",
       "<style scoped>\n",
       "    .dataframe tbody tr th:only-of-type {\n",
       "        vertical-align: middle;\n",
       "    }\n",
       "\n",
       "    .dataframe tbody tr th {\n",
       "        vertical-align: top;\n",
       "    }\n",
       "\n",
       "    .dataframe thead th {\n",
       "        text-align: right;\n",
       "    }\n",
       "</style>\n",
       "<table border=\"1\" class=\"dataframe\">\n",
       "  <thead>\n",
       "    <tr style=\"text-align: right;\">\n",
       "      <th></th>\n",
       "      <th>Class Index</th>\n",
       "      <th>Title</th>\n",
       "      <th>Description</th>\n",
       "    </tr>\n",
       "  </thead>\n",
       "  <tbody>\n",
       "    <tr>\n",
       "      <th>0</th>\n",
       "      <td>3</td>\n",
       "      <td>wall st bears claw back black reuters</td>\n",
       "      <td>Reuters - Short-sellers, Wall Street's dwindling\\band of ultra-cynics, are seeing green again.</td>\n",
       "    </tr>\n",
       "    <tr>\n",
       "      <th>1</th>\n",
       "      <td>3</td>\n",
       "      <td>carlyle looks toward commercial aerospace reuters</td>\n",
       "      <td>Reuters - Private investment firm Carlyle Group,\\which has a reputation for making well-timed and occasionally\\controversial plays in the defense industry, has quietly placed\\its bets on another part of the market.</td>\n",
       "    </tr>\n",
       "    <tr>\n",
       "      <th>2</th>\n",
       "      <td>3</td>\n",
       "      <td>oil economy cloud stocks outlook reuters</td>\n",
       "      <td>Reuters - Soaring crude prices plus worries\\about the economy and the outlook for earnings are expected to\\hang over the stock market next week during the depth of the\\summer doldrums.</td>\n",
       "    </tr>\n",
       "    <tr>\n",
       "      <th>3</th>\n",
       "      <td>3</td>\n",
       "      <td>iraq halts oil exports main southern pipeline reuters</td>\n",
       "      <td>Reuters - Authorities have halted oil export\\flows from the main pipeline in southern Iraq after\\intelligence showed a rebel militia could strike\\infrastructure, an oil official said on Saturday.</td>\n",
       "    </tr>\n",
       "    <tr>\n",
       "      <th>4</th>\n",
       "      <td>3</td>\n",
       "      <td>oil prices soar time record posing new menace us economy afp</td>\n",
       "      <td>AFP - Tearaway world oil prices, toppling records and straining wallets, present a new economic menace barely three months before the US presidential elections.</td>\n",
       "    </tr>\n",
       "    <tr>\n",
       "      <th>5</th>\n",
       "      <td>3</td>\n",
       "      <td>stocks end near year lows reuters</td>\n",
       "      <td>Reuters - Stocks ended slightly higher on Friday\\but stayed near lows for the year as oil prices surged past  #36;46\\a barrel, offsetting a positive outlook from computer maker\\Dell Inc. (DELL.O)</td>\n",
       "    </tr>\n",
       "    <tr>\n",
       "      <th>6</th>\n",
       "      <td>3</td>\n",
       "      <td>money funds fell latest week ap</td>\n",
       "      <td>AP - Assets of the nation's retail money market mutual funds fell by  #36;1.17 billion in the latest week to  #36;849.98 trillion, the Investment Company Institute said Thursday.</td>\n",
       "    </tr>\n",
       "  </tbody>\n",
       "</table>\n",
       "</div>"
      ],
      "text/plain": [
       "  Class Index                                                         Title  \\\n",
       "0           3                         wall st bears claw back black reuters   \n",
       "1           3             carlyle looks toward commercial aerospace reuters   \n",
       "2           3                      oil economy cloud stocks outlook reuters   \n",
       "3           3         iraq halts oil exports main southern pipeline reuters   \n",
       "4           3  oil prices soar time record posing new menace us economy afp   \n",
       "5           3                             stocks end near year lows reuters   \n",
       "6           3                               money funds fell latest week ap   \n",
       "\n",
       "                                                                                                                                                                                                              Description  \n",
       "0                                                                                                                          Reuters - Short-sellers, Wall Street's dwindling\\band of ultra-cynics, are seeing green again.  \n",
       "1  Reuters - Private investment firm Carlyle Group,\\which has a reputation for making well-timed and occasionally\\controversial plays in the defense industry, has quietly placed\\its bets on another part of the market.  \n",
       "2                                Reuters - Soaring crude prices plus worries\\about the economy and the outlook for earnings are expected to\\hang over the stock market next week during the depth of the\\summer doldrums.  \n",
       "3                     Reuters - Authorities have halted oil export\\flows from the main pipeline in southern Iraq after\\intelligence showed a rebel militia could strike\\infrastructure, an oil official said on Saturday.  \n",
       "4                                                        AFP - Tearaway world oil prices, toppling records and straining wallets, present a new economic menace barely three months before the US presidential elections.  \n",
       "5                     Reuters - Stocks ended slightly higher on Friday\\but stayed near lows for the year as oil prices surged past  #36;46\\a barrel, offsetting a positive outlook from computer maker\\Dell Inc. (DELL.O)  \n",
       "6                                      AP - Assets of the nation's retail money market mutual funds fell by  #36;1.17 billion in the latest week to  #36;849.98 trillion, the Investment Company Institute said Thursday.  "
      ]
     },
     "execution_count": 16,
     "metadata": {},
     "output_type": "execute_result"
    }
   ],
   "source": [
    "df.head(7)"
   ]
  },
  {
   "cell_type": "code",
   "execution_count": null,
   "id": "4e870c4d-abfd-4af9-b3e3-200b57aea54b",
   "metadata": {},
   "outputs": [],
   "source": [
    "# convert to CSV for ease of use in future\n",
    "\n",
    "cleaned_data_file = r'C:\\Users\\nickr\\OneDrive\\Desktop\\CapstoneTechX\\ag_news_cleaned\\cleaned_ag_news.csv'\n",
    "df.to_csv(cleaned_data_file, index=False)"
   ]
  },
  {
   "cell_type": "markdown",
   "id": "51cd8cdb-add6-4426-84db-803400bbc1f3",
   "metadata": {},
   "source": [
    "# Data Splitting"
   ]
  },
  {
   "cell_type": "code",
   "execution_count": 17,
   "id": "55d4286e-9003-4783-b52f-b2a3754fbd9c",
   "metadata": {},
   "outputs": [],
   "source": [
    "# Split training data into training and validation data \n",
    "\n",
    "df_train, df_test = train_test_split(df, test_size=.15, random_state=42)"
   ]
  },
  {
   "cell_type": "code",
   "execution_count": null,
   "id": "d183cea1-30ce-46b1-9a88-60e5a0dcb957",
   "metadata": {},
   "outputs": [],
   "source": [
    "# Create csv file for train and test data\n",
    "\n",
    "df_train.to_csv(os.path.join(r'C:\\Users\\nickr\\OneDrive\\Desktop\\CapstoneTechX\\ag_news_cleaned', 'train.csv'), index=False)\n",
    "df_test.to_csv(os.path.join(r'C:\\Users\\nickr\\OneDrive\\Desktop\\CapstoneTechX\\ag_news_cleaned', 'test.csv'), index=False)"
   ]
  },
  {
   "cell_type": "code",
   "execution_count": null,
   "id": "ebcfdf86-2d73-4a16-83bf-292849e06163",
   "metadata": {},
   "outputs": [],
   "source": [
    "# Create feature data directory\n",
    "\n",
    "feature_data_dir = r'C:\\Users\\nickr\\OneDrive\\Desktop\\CapstoneTechX\\features'\n",
    "os.makedirs(feature_data_dir, exist_ok=True)"
   ]
  },
  {
   "cell_type": "code",
   "execution_count": 96,
   "id": "75d65b5e-2da9-43bf-a4ee-12528882de24",
   "metadata": {},
   "outputs": [],
   "source": [
    "# TF-IDF Vectorization for Title\n",
    "\n",
    "tfidf_vectorizer = TfidfVectorizer(max_features=3000)  # we can play around with this. This was an arbitrary value\n",
    "train_title_features = tfidf_vectorizer.fit_transform(df_train['Title'])\n",
    "test_title_features = tfidf_vectorizer.transform(df_test['Title'])"
   ]
  },
  {
   "cell_type": "code",
   "execution_count": 97,
   "id": "3789d455-e75b-473c-89cd-c2406e724234",
   "metadata": {},
   "outputs": [
    {
     "data": {
      "text/plain": [
       "<25500x3000 sparse matrix of type '<class 'numpy.float64'>'\n",
       "\twith 106909 stored elements in Compressed Sparse Row format>"
      ]
     },
     "execution_count": 97,
     "metadata": {},
     "output_type": "execute_result"
    }
   ],
   "source": [
    "train_title_features"
   ]
  },
  {
   "cell_type": "code",
   "execution_count": 98,
   "id": "f7305e5a-8503-47ef-9a90-d9111b0a741b",
   "metadata": {},
   "outputs": [],
   "source": [
    "# look at one of the matrices the vectorizer produces\n",
    "\n",
    "# print(df_train['Title'][98])\n",
    "# print(train_title_features.toarray()[98]) "
   ]
  },
  {
   "cell_type": "code",
   "execution_count": 99,
   "id": "371fd926-9565-407d-b609-d86be6844fc8",
   "metadata": {},
   "outputs": [
    {
     "name": "stdout",
     "output_type": "stream",
     "text": [
      "{'tennis': 2664, 'agassi': 38, 'goes': 1102, 'google': 1110, 'still': 2545, 'last': 1449, 'digital': 713, 'radio': 2084, 'new': 1734, 'front': 1043, 'piracy': 1913, 'war': 2892, 'ap': 103, 'sony': 2472, 'group': 1130, 'agrees': 45, 'buy': 355, 'mgm': 1616, 'toys': 2730, 'wireless': 2946, 'crowd': 612, 'join': 1378, 'nikkei': 1746, 'average': 176, 'update': 2807, 'nd': 1716, 'shows': 2401, 'request': 2172, 'issue': 1350, 'drops': 771, 'israel': 1347, 'build': 345, 'housing': 1242, 'units': 2801, 'profits': 2023, 'rise': 2212, 'retail': 2186, 'un': 2792, 'staff': 2515, 'call': 366, 'afghan': 32, 'pullout': 2045, 'singh': 2422, 'could': 581, 'woods': 2957, 'chechen': 448, 'story': 2556, 'leader': 1467, 'terror': 2666, 'russia': 2255, 'woodward': 2958, 'lions': 1507, 'coach': 508, 'internet': 1322, 'turns': 2778, 'work': 2961, 'progress': 2026, 'taken': 2634, 'along': 70, 'issues': 1351, 'finally': 952, 'comes': 525, 'age': 39, 'athens': 154, 'van': 2835, 'continues': 565, 'cassini': 408, 'discovers': 721, 'two': 2783, 'moons': 1666, 'scientists': 2301, 'study': 2575, 'effects': 804, 'cruise': 615, 'ship': 2389, 'waste': 2904, 'palestinian': 1840, 'militants': 1629, 'killed': 1414, 'gaza': 1069, 'fda': 922, 'oks': 1785, 'version': 2844, 'investors': 1331, 'see': 2326, 'eagles': 783, 'super': 2597, 'bowl': 304, 'germany': 1081, 'asks': 145, 'protest': 2037, 'central': 423, 'park': 1846, 'gold': 1104, 'phelps': 1893, 'relay': 2152, 'team': 2650, 'falters': 904, 'partner': 1851, 'charges': 443, 'riaa': 2206, 'patent': 1861, 'opec': 1791, 'limited': 1497, 'ahead': 46, 'wednesday': 2920, 'meet': 1597, 'red': 2134, 'planet': 1921, 'life': 1490, 'blue': 276, 'screens': 2308, 'death': 653, 'city': 478, 'calm': 371, 'bloody': 273, 'governor': 1114, 'protests': 2039, 'olympic': 1787, 'lee': 1478, 'wins': 2945, 'case': 405, 'vs': 2878, 'porn': 1965, 'site': 2426, 'reuters': 2194, 'critical': 607, 'agreement': 44, 'boeing': 282, 'makes': 1554, 'hurdles': 1258, 'comeback': 524, 'firms': 971, 'post': 1969, 'drug': 773, 'data': 640, 'murder': 1693, 'killing': 1416, 'electronic': 816, 'net': 1727, 'olympics': 1788, 'cink': 471, 'eases': 790, 'four': 1025, 'shot': 2397, 'win': 2939, 'nec': 1720, 'invitational': 1332, 'volkswagen': 2869, 'mexican': 1614, 'workers': 2962, 'accept': 5, 'pay': 1866, 'increase': 1288, 'says': 2285, 'apple': 109, 'unveils': 2805, 'imac': 1276, 'worst': 2969, 'pass': 1856, 'us': 2822, 'crisis': 606, 'darfur': 639, 'bank': 198, 'canada': 376, 'leaves': 1474, 'interest': 1319, 'rates': 2104, 'cisco': 474, 'acquire': 13, 'network': 1731, 'disney': 727, 'ceo': 425, 'leave': 1473, 'review': 2199, 'campaign': 375, 'finance': 954, 'web': 2917, 'sites': 2427, 'huge': 1250, 'montreal': 1662, 'kills': 1418, 'one': 1789, 'injures': 1305, 'six': 2429, 'others': 1813, 'canadian': 377, 'press': 1991, 'lab': 1435, 'finds': 958, 'deadly': 650, 'virus': 2861, 'pigs': 1906, 'china': 463, 'helicopter': 1189, 'stunt': 2578, 'pilots': 1908, 'snag': 2454, 'nasa': 1708, 'ibm': 1264, 'buys': 358, 'content': 561, 'integration': 1314, 'talks': 2641, 'resume': 2184, 'airline': 55, 'israeli': 1348, 'cabinet': 361, 'approves': 118, 'settlers': 2370, 'russian': 2256, 'astronauts': 151, 'mission': 1647, 'ebay': 794, 'stake': 2517, 'disaster': 718, 'officials': 1781, 'get': 1083, 'ready': 2118, 'patch': 1859, 'enron': 832, 'high': 1198, 'blackburn': 260, 'names': 1706, 'hughes': 1251, 'free': 1033, 'code': 512, 'stocks': 2547, 'move': 1681, 'higher': 1199, 'oil': 1783, 'prices': 1995, 'decline': 662, 'ex': 862, 'gets': 1084, 'sentence': 2351, 'chips': 466, 'hurt': 1261, 'alcoa': 61, 'techs': 2655, 'aol': 102, 'launches': 1456, 'pc': 1871, 'line': 1499, 'typhoon': 2784, 'aere': 31, 'pounds': 1976, 'taiwan': 2632, 'heads': 1179, 'monday': 1658, 'features': 927, 'art': 139, 'hits': 1211, 'th': 2676, 'hr': 1247, 'reds': 2135, 'beat': 222, 'backs': 188, 'gatlin': 1068, 'gun': 1145, 'fastest': 914, 'historic': 1207, 'closes': 501, 'south': 2480, 'korean': 1428, 'auction': 165, 'house': 1241, 'giants': 1089, 'give': 1092, 'first': 972, 'start': 2527, 'thursday': 2693, 'edwards': 802, 'bush': 351, 'lay': 1463, 'arsenal': 138, 'exit': 869, 'would': 2971, 'people': 1881, 'british': 327, 'soldier': 2465, 'faces': 892, 'charge': 440, 'iraqi': 1340, 'man': 1558, 'offering': 1775, 'waits': 2883, 'sec': 2319, 'approval': 116, 'equatorial': 840, 'guinea': 1143, 'suspends': 2612, 'coup': 587, 'trial': 2748, 'schumacher': 2296, 'ferrari': 938, 'seals': 2312, 'formula': 1020, 'title': 2707, 'takes': 2637, 'prime': 1999, 'st': 2514, 'gives': 1094, 'cards': 397, 'lead': 1466, 'prize': 2008, 'long': 1518, 'shots': 2398, 'play': 1929, 'lexmark': 1488, 'dell': 679, 'printers': 2001, 'shock': 2392, 'hazard': 1175, 'home': 1224, 'sales': 2268, 'fall': 899, 'july': 1391, 'tyson': 2785, 'cuts': 629, 'forecast': 1012, 'costs': 580, 'arctic': 124, 'science': 2298, 'cold': 515, 'style': 2579, 'hungary': 1255, 'breaks': 317, 'record': 2131, 'elects': 818, 'al': 59, 'president': 1989, 'lt': 1538, 'gt': 1136, 'citigroup': 477, 'american': 77, 'sees': 2332, 'much': 1690, 'meets': 1600, 'eye': 889, 'end': 825, 'genesis': 1076, 'canon': 382, 'august': 169, 'industrial': 1296, 'output': 1818, 'percent': 1884, 'afp': 35, 'also': 71, 'better': 241, 'head': 1178, 'injury': 1306, 'test': 2670, 'greek': 1121, 'questions': 2070, 'explosives': 881, 'found': 1023, 'plane': 1919, 'wreckage': 2976, 'time': 2702, 'running': 2252, 'quake': 2059, 'government': 1113, 'extend': 885, 'three': 2690, 'year': 2986, 'contract': 566, 'microsoft': 1622, 'hospital': 1233, 'election': 814, 'threat': 2686, 'howard': 1244, 'qaida': 2055, 'tape': 2644, 'fed': 928, 'hostage': 1235, 'halts': 1159, 'iraq': 1339, 'dolphins': 743, 'trade': 2734, 'kidnappers': 1411, 'say': 2284, 'italian': 1352, 'putin': 2051, 'twin': 2781, 'air': 52, 'crashes': 595, 'battle': 214, 'music': 1696, 'california': 365, 'boom': 295, 'hbos': 1176, 'weighs': 2925, 'abbey': 0, 'bid': 245, 'kabul': 1397, 'bombing': 287, 'security': 2325, 'firm': 970, 'williams': 2937, 'happy': 1169, 'silver': 2419, 'soldiers': 2466, 'charged': 441, 'killings': 1417, 'brain': 311, 'may': 1588, 'slow': 2445, 'around': 131, 'nation': 1710, 'find': 956, 'gop': 1111, 'primary': 1998, 'broken': 331, 'capsule': 389, 'holds': 1216, 'good': 1108, 'hp': 1246, 'smart': 2451, 'winning': 2944, 'touch': 2721, 'soft': 2460, 'cut': 628, 'profit': 2022, 'briefly': 322, 'hires': 1205, 'ad': 20, 'exec': 864, 'powell': 1978, 'misses': 1643, 'medal': 1593, 'lebanese': 1475, 'votes': 2875, 'term': 2665, 'office': 1778, 'silicon': 2417, 'help': 1190, 'personal': 1888, 'verizon': 2843, 'key': 1407, 'notre': 1759, 'dame': 637, 'yahoo': 2983, 'patches': 1860, 'hole': 1217, 'control': 568, 'school': 2293, 'siege': 2410, 'wal': 2885, 'mart': 1579, 'slump': 2449, 'keeps': 1403, 'appeals': 106, 'korea': 1427, 'nuke': 1764, 'burundi': 349, 'threaten': 2687, 'congo': 553, 'least': 1472, 'light': 1494, 'cyber': 631, 'award': 180, 'think': 2682, 'space': 2486, 'uk': 2789, 'creates': 598, 'numbers': 1766, 'phone': 1899, 'users': 2828, 'hundreds': 1253, 'fleet': 988, 'layoffs': 1464, 'expected': 875, 'greece': 1120, 'second': 2320, 'judo': 1390, 'haas': 1150, 'fine': 959, 'form': 1016, 'sharon': 2382, 'accuses': 12, 'far': 910, 'right': 2208, 'civil': 479, 'si': 2407, 'com': 521, 'reporters': 2168, 'past': 1858, 'rugby': 2246, 'calls': 370, 'international': 1321, 'career': 399, 'nortel': 1751, 'losing': 1528, 'pace': 1828, 'moves': 1682, 'deficit': 670, 'australian': 173, 'father': 917, 'action': 18, 'foreign': 1014, 'banks': 202, 'arms': 129, 'hunt': 1257, 'sudanese': 2582, 'fish': 975, 'beach': 220, 'ukraine': 2790, 'lawmakers': 1458, 'agree': 43, 'lost': 1531, 'dreams': 765, 'show': 2399, 'made': 1546, 'pope': 1962, 'returns': 2193, 'quot': 2075, 'rare': 2102, 'orthodox': 1809, 'church': 468, 'soccer': 2459, 'veterans': 2846, 'finale': 951, 'pays': 1870, 'windows': 2940, 'xp': 2982, 'sp': 2484, 'bryant': 340, 'prosecutors': 2034, 'plans': 1925, 'cash': 407, 'athletics': 157, 'teams': 2651, 'hand': 1163, 'foes': 1001, 'open': 1792, 'source': 2478, 'washingtonpost': 2903, 'taps': 2645, 'sprint': 2507, 'provide': 2041, 'voip': 2868, 'indonesia': 1294, 'meeting': 1598, 'urges': 2821, 'broadband': 330, 'growth': 1135, 'slows': 2447, 'analyst': 83, 'heart': 1184, 'future': 1055, 'athlete': 155, 'dies': 710, 'jumps': 1393, 'debut': 657, 'oracle': 1804, 'aims': 51, 'grid': 1127, 'freshman': 1039, 'surgery': 2603, 'uranium': 2818, 'times': 2703, 'former': 1018, 'systems': 2628, 'dead': 648, 'missing': 1646, 'maoist': 1567, 'attack': 161, 'gain': 1057, 'tumble': 2769, 'executive': 866, 'editor': 800, 'gm': 1098, 'online': 1790, 'swiss': 2620, 'host': 1234, 'finishes': 964, 'diving': 733, 'tigers': 2700, 'edge': 798, 'mariners': 1570, 'wild': 2936, 'medical': 1596, 'experts': 877, 'fear': 923, 'charley': 444, 'looking': 1522, 'strong': 2569, 'current': 625, 'account': 10, 'gap': 1062, 'dollar': 741, 'intel': 1315, 'pledges': 1939, 'bring': 324, 'price': 1994, 'point': 1945, 'expos': 883, 'keep': 1401, 'dodgers': 738, 'bay': 216, 'sells': 2339, 'dvd': 781, 'troops': 2759, 'response': 2179, 'spam': 2488, 'lawsuit': 1459, 'federer': 930, 'rolls': 2231, 'fourth': 1026, 'round': 2236, 'hamm': 1161, 'hold': 1214, 'men': 1604, 'triathlon': 2750, 'mobile': 1653, 'makers': 1553, 'message': 1610, 'date': 642, 'set': 2363, 'nhl': 1740, 'german': 1080, 'infineon': 1298, 'million': 1632, 'antitrust': 99, 'working': 2963, 'stop': 2549, 'blame': 263, 'game': 1059, 'baghdad': 191, 'blast': 265, 'planned': 1923, 'target': 2646, 'tv': 2779, 'switch': 2621, 'united': 2800, 'likely': 1496, 'pension': 1878, 'fight': 943, 'kerry': 1406, 'sudan': 2581, 'ill': 1272, 'giant': 1088, 'ipo': 1335, 'speech': 2495, 'become': 225, 'singapore': 2421, 'sets': 2365, 'bln': 268, 'order': 1806, 'days': 646, 'tell': 2661, 'deal': 651, 'brings': 325, 'closer': 500, 'vision': 2862, 'world': 2965, 'henin': 1194, 'hardenne': 1171, 'approach': 114, 'traffic': 2736, 'management': 1561, 'yankees': 2984, 'strike': 2565, 'back': 187, 'leads': 1470, 'orioles': 1808, 'twins': 2782, 'brunei': 339, 'wedding': 2919, 'role': 2229, 'asia': 142, 'seen': 2331, 'wall': 2888, 'street': 2563, 'satellite': 2278, 'holdout': 1215, 'offensive': 1773, 'tackle': 2629, 'signs': 2415, 'rams': 2096, 'hewitt': 1196, 'cubs': 619, 'alert': 62, 'floods': 994, 'kill': 1413, 'serious': 2357, 'away': 182, 'years': 2987, 'alitalia': 63, 'tells': 2662, 'unions': 2798, 'plan': 1918, 'car': 394, 'bomb': 284, 'police': 1950, 'nokia': 1750, 'handset': 1166, 'doping': 749, 'cost': 579, 'eyes': 890, 'wimax': 2938, 'video': 2851, 'options': 1802, 'britain': 326, 'lewis': 1487, 'french': 1037, 'visit': 2863, 'seek': 2328, 'release': 2153, 'journalists': 1384, 'based': 210, 'company': 533, 'system': 2627, 'server': 2359, 'continue': 564, 'soar': 2457, 'ziff': 2997, 'davis': 644, 'tech': 2653, 'means': 1592, 'next': 1738, 'big': 247, 'vikings': 2854, 'tune': 2771, 'aim': 50, 'party': 1855, 'mergers': 1609, 'problems': 2014, 'recalls': 2128, 'powerbook': 1980, 'batteries': 213, 'maccentral': 1541, 'indian': 1292, 'sent': 2350, 'prison': 2002, 'court': 589, 'sends': 2348, 'minister': 1637, 'middle': 1625, 'east': 791, 'hostages': 1236, 'sox': 2483, 'angels': 87, 'chinese': 464, 'thailand': 2678, 'grey': 1126, 'advertising': 30, 'opens': 1795, 'design': 693, 'blade': 261, 'servers': 2360, 'marlins': 1577, 'miss': 1641, 'reduces': 2138, 'radcliffe': 2082, 'tears': 2652, 'bronze': 335, 'delivers': 677, 'cluster': 506, 'turkey': 2773, 'eu': 852, 'moment': 1657, 'chief': 458, 'worm': 2967, 'turn': 2776, 'parts': 1854, 'women': 2955, 'trail': 2737, 'sadr': 2263, 'najaf': 1703, 'mosque': 1672, 'official': 1780, 'amp': 81, 'vodafone': 2866, 'java': 1365, 'great': 1119, 'escape': 846, 'runs': 2253, 'australia': 172, 'range': 2097, 'missiles': 1645, 'force': 1009, 'toll': 2712, 'reaches': 2115, 'milestone': 1627, 'results': 2183, 'estimates': 850, 'later': 1451, 'place': 1917, 'top': 2716, 'retailer': 2187, 'woodgate': 2956, 'well': 2929, 'sears': 2315, 'board': 278, 'fires': 969, 'green': 1123, 'slam': 2436, 'lifts': 1493, 'teenager': 2658, 'sasser': 2277, 'rooney': 2234, 'hit': 1209, 'hurricane': 1259, 'size': 2431, 'song': 2470, 'bears': 221, 'ford': 1011, 'face': 891, 'class': 484, 'suit': 2590, 'violence': 2856, 'building': 347, 'silent': 2416, 'money': 1659, 'moscow': 1671, 'poverty': 1977, 'fcc': 921, 'adds': 23, 'months': 1661, 'local': 1514, 'rules': 2248, 'prince': 2000, 'decision': 660, 'quarter': 2062, 'earnings': 785, 'expectations': 874, 'india': 1291, 'steps': 2543, 'old': 1786, 'near': 1717, 'tour': 2724, 'invesco': 1326, 'mln': 1652, 'settlement': 2367, 'finish': 963, 'marathon': 1568, 'awaited': 178, 'doom': 747, 'samsung': 2271, 'notebook': 1756, 'browns': 337, 'reach': 2113, 'ravens': 2108, 'billion': 250, 'send': 2345, 'delegation': 675, 'confirms': 550, 'cheers': 452, 'surge': 2602, 'asian': 143, 'prepares': 1988, 'pm': 1944, 'violent': 2857, 'inquiry': 1308, 'watchdog': 2906, 'attacks': 162, 'id': 1267, 'card': 395, 'inflation': 1299, 'way': 2910, 'hong': 1229, 'kong': 1426, 'economy': 797, 'probe': 2010, 'launched': 1455, 'parliament': 1847, 'admits': 24, 'spot': 2503, 'winner': 2942, 'sample': 2270, 'lose': 1526, 'yukos': 2995, 'heat': 1185, 'want': 2889, 'power': 1979, 'go': 1099, 'thatcher': 2679, 'sport': 2501, 'solid': 2467, 'ratings': 2106, 'iran': 1337, 'halt': 1158, 'updates': 2809, 'software': 2462, 'ivan': 1356, 'toward': 2726, 'gulf': 1144, 'coast': 510, 'army': 130, 'destroys': 696, 'homes': 1227, 'bus': 350, 'bombings': 288, 'led': 1477, 'forces': 1010, 'take': 2633, 'health': 1181, 'policy': 1952, 'plays': 1935, 'golden': 1105, 'joy': 1385, 'wrong': 2977, 'largest': 1445, 'computing': 542, 'jobs': 1375, 'slams': 2437, 'north': 1752, 'japan': 1363, 'starts': 2530, 'solution': 2468, 'looks': 1523, 'begins': 229, 'clinches': 496, 'senior': 2349, 'major': 1550, 'job': 1373, 'report': 2164, 'quest': 2067, 'holy': 1223, 'phillies': 1897, 'season': 2316, 'kreme': 1429, 'opener': 1793, 'raise': 2091, 'concerns': 545, 'lion': 1506, 'awaits': 179, 'yen': 2989, 'peak': 1876, 'durable': 778, 'goods': 1109, 'orders': 1807, 'rose': 2235, 'survey': 2606, 'know': 1424, 'economic': 796, 'boosts': 297, 'funds': 1052, 'champion': 432, 'operations': 1797, 'amazon': 73, 'production': 2019, 'miami': 1617, 'beats': 223, 'florida': 995, 'ot': 1812, 'champions': 433, 'trophy': 2760, 'island': 1345, 'henman': 1195, 'spotlight': 2504, 'advance': 27, 'toyota': 2729, 'pro': 2009, 'union': 2797, 'vows': 2877, 'shut': 2404, 'companies': 532, 'nepal': 1724, 'europe': 854, 'told': 2711, 'stem': 2540, 'cell': 418, 'research': 2174, 'genocide': 1077, 'finding': 957, 'nba': 1714, 'star': 2524, 'cleared': 488, 'minutes': 1640, 'fame': 905, 'winners': 2943, 'bill': 249, 'clinton': 497, 'semifinals': 2342, 'injured': 1304, 'devers': 704, 'today': 2709, 'schedule': 2290, 'itunes': 1355, 'advanced': 28, 'micro': 1621, 'chip': 465, 'appeal': 105, 'tries': 2753, 'acclaim': 8, 'falls': 901, 'settles': 2371, 'overtime': 1822, 'claim': 480, 'joint': 1380, 'venture': 2839, 'pipeline': 1912, 'cricket': 602, 'pressure': 1992, 'young': 2994, 'sharing': 2381, 'kremlin': 1430, 'favourite': 919, 'stage': 2516, 'ny': 1767, 'lukoil': 1539, 'games': 1060, 'rock': 2224, 'thousands': 2685, 'africa': 36, 'madrid': 1547, 'rape': 2101, 'reports': 2169, 'credit': 599, 'news': 1736, 'industry': 1297, 'latest': 1452, 'late': 1450, 'crude': 614, 'slide': 2439, 'jones': 1381, 'fears': 925, 'qwest': 2078, 'settle': 2366, 'cites': 475, 'impact': 1281, 'species': 2494, 'illegal': 1273, 'squad': 2512, 'slovakia': 2444, 'club': 504, 'atlanta': 158, 'vote': 2873, 'democrats': 685, 'jump': 1392, 'summer': 2593, 'like': 1495, 'champ': 431, 'powers': 1982, 'cross': 611, 'mozilla': 1685, 'japanese': 1364, 'push': 2048, 'football': 1007, 'claims': 481, 'lift': 1491, 'hopes': 1232, 'process': 2015, 'make': 1551, 'fuel': 1046, 'fire': 966, 'erupts': 845, 'depot': 689, 'eastern': 792, 'roddick': 2228, 'serena': 2355, 'gdp': 1072, 'revised': 2200, 'pct': 1873, 'market': 1573, 'value': 2834, 'warns': 2900, 'schwab': 2297, 'fined': 960, 'western': 2931, 'cuba': 616, 'sale': 2267, 'rank': 2099, 'slips': 2443, 'woman': 2954, 'remains': 2158, 'healthy': 1182, 'nuclear': 1763, 'capable': 384, 'missile': 1644, 'business': 352, 'ca': 360, 'acquires': 14, 'general': 1074, 'blames': 264, 'abuse': 3, 'contracts': 567, 'treasuries': 2744, 'slip': 2442, 'lower': 1535, 'course': 588, 'bn': 277, 'acquisition': 15, 'moon': 1665, 'landing': 1440, 'draw': 762, 'announces': 94, 'avoid': 177, 'shrine': 2402, 'developers': 702, 'linux': 1505, 'base': 208, 'standard': 2521, 'elections': 815, 'weekend': 2922, 'use': 2826, 'risks': 2216, 'sides': 2409, 'kobe': 1425, 'seeks': 2330, 'truck': 2763, 'payment': 1868, 'realnetworks': 2121, 'slashes': 2438, 'advances': 29, 'run': 2251, 'verisign': 2841, 'icann': 1265, 'state': 2531, 'ii': 1271, 'probes': 2012, 'warner': 2897, 'moving': 1684, 'yanks': 2985, 'remain': 2157, 'jets': 1370, 'spain': 2487, 'summit': 2594, 'ride': 2207, 'wave': 2908, 'ends': 827, 'talk': 2640, 'feds': 932, 'speed': 2496, 'list': 1508, 'said': 2266, 'investigation': 1328, 'match': 1585, 'offer': 1774, 'georgian': 1079, 'center': 422, 'utah': 2831, 'smith': 2452, 'sights': 2413, 'linked': 1503, 'global': 1097, 'warming': 2894, 'labor': 1436, 'weigh': 2924, 'truce': 2762, 'rejected': 2149, 'forbes': 1008, 'nearly': 1718, 'novell': 1760, 'begin': 228, 'public': 2042, 'researchers': 2175, 'cells': 419, 'sex': 2374, 'lines': 1500, 'anti': 98, 'airways': 58, 'delay': 671, 'payments': 1869, 'biggest': 248, 'risk': 2215, 'look': 1521, 'hot': 1237, 'mp': 1686, 'player': 1931, 'airbus': 53, 'planes': 1920, 'audit': 166, 'venezuelan': 2838, 'chavez': 446, 'defeat': 665, 'ers': 844, 'qb': 2057, 'fishing': 976, 'bite': 257, 'return': 2192, 'reality': 2120, 'step': 2542, 'bombers': 286, 'jet': 1369, 'commercial': 529, 'service': 2361, 'caller': 368, 'ipod': 1336, 'media': 1595, 'wto': 2979, 'effort': 805, 'law': 1457, 'posts': 1973, 'another': 96, 'nice': 1741, 'mixed': 1650, 'govt': 1115, 'basketball': 211, 'brazil': 314, 'calling': 369, 'pair': 1835, 'rangers': 2098, 'must': 1699, 'european': 855, 'casts': 409, 'shadow': 2375, 'field': 941, 'influence': 1300, 'platform': 1928, 'baseball': 209, 'outlines': 1816, 'tougher': 2723, 'pakistan': 1837, 'real': 2119, 'blair': 262, 'trying': 2767, 'symbol': 2625, 'relief': 2156, 'tri': 2747, 'nations': 1712, 'complete': 537, 'recovery': 2133, 'unclear': 2793, 'peaceful': 1875, 'imf': 1279, 'kenya': 1405, 'rebels': 2123, 'fury': 1054, 'beware': 242, 'water': 2907, 'rises': 2213, 'low': 1533, 'sweep': 2616, 'straight': 2557, 'day': 645, 'track': 2731, 'fighting': 944, 'rages': 2085, 'ossetia': 1811, 'memos': 1603, 'guard': 1138, 'helped': 1191, 'rate': 2103, 'hikes': 1202, 'view': 2853, 'dream': 764, 'dips': 715, 'steel': 2539, 'braces': 310, 'storm': 2554, 'el': 812, 'guerrouj': 1139, 'holmes': 1222, 'doubles': 752, 'americans': 78, 'yield': 2991, 'services': 2362, 'expansion': 872, 'focus': 1000, 'grows': 1134, 'jamaica': 1361, 'search': 2313, 'vivendi': 2865, 'fun': 1049, 'mean': 1591, 'bhp': 244, 'ball': 194, 'collapse': 516, 'fast': 912, 'rival': 2217, 'road': 2221, 'analysts': 84, 'republican': 2170, 'shuttle': 2406, 'damage': 636, 'manning': 1564, 'carolina': 401, 'lebanon': 1476, 'urged': 2820, 'falling': 900, 'tool': 2714, 'hurricanes': 1260, 'terrorist': 2668, 'competition': 535, 'potential': 1974, 'frances': 1029, 'palestinians': 1841, 'west': 2930, 'break': 315, 'country': 585, 'caribbean': 400, 'towards': 2727, 'words': 2960, 'terrorism': 2667, 'downed': 755, 'offers': 1777, 'rebel': 2122, 'image': 1277, 'fix': 979, 'refugees': 2143, 'italy': 1354, 'morgan': 1668, 'cancels': 378, 'pact': 1831, 'tumbles': 2770, 'final': 950, 'tax': 2648, 'atlantic': 159, 'league': 1471, 'extends': 886, 'blocking': 271, 'month': 1660, 'weather': 2916, 'targets': 2647, 'exercise': 868, 'cancer': 379, 'arrests': 134, 'weapons': 2915, 'needed': 1722, 'climbs': 495, 'vietnam': 2852, 'flat': 984, 'gains': 1058, 'waves': 2909, 'mid': 1623, 'cap': 383, 'choice': 467, 'preview': 1993, 'mortar': 1669, 'radical': 2083, 'cleric': 491, 'france': 1028, 'kidnapped': 1410, 'suspected': 2609, 'file': 946, 'count': 583, 'programs': 2025, 'cent': 421, 'downloads': 758, 'points': 1946, 'owen': 1823, 'mars': 1578, 'scientist': 2300, 'jakarta': 1360, 'mylan': 1701, 'trading': 2735, 'pcs': 1872, 'loss': 1529, 'royals': 2245, 'rout': 2239, 'rebound': 2124, 'compensation': 534, 'leaders': 1468, 'prepare': 1987, 'october': 1771, 'poll': 1956, 'crash': 594, 'gas': 1064, 'hike': 1201, 'roll': 2230, 'cause': 414, 'flight': 991, 'product': 2018, 'roundup': 2237, 'part': 1849, 'newsfactor': 1737, 'carries': 402, 'third': 2683, 'raids': 2088, 'stores': 2553, 'rejects': 2150, 'resolution': 2178, 'drought': 772, 'doj': 740, 'fraud': 1031, 'sender': 2346, 'drop': 770, 'democracy': 684, 'philippine': 1895, 'sept': 2353, 'quick': 2071, 'week': 2921, 'pleads': 1937, 'guilty': 1142, 'gazprom': 1070, 'truckers': 2764, 'ual': 2786, 'replace': 2163, 'powerful': 1981, 'strength': 2564, 'cingular': 470, 'program': 2024, 'victim': 2848, 'success': 2580, 'ending': 826, 'wait': 2881, 'suspects': 2610, 'planning': 1924, 'aug': 168, 'accused': 11, 'side': 2408, 'marketing': 1574, 'african': 37, 'plant': 1926, 'tokyo': 2710, 'cable': 362, 'access': 7, 'rule': 2247, 'wrap': 2975, 'teen': 2657, 'evidence': 861, 'exports': 882, 'beckham': 224, 'images': 1278, 'interim': 1320, 'dividend': 732, 'half': 1154, 'wariner': 2893, 'polish': 1953, 'wants': 2891, 'quiet': 2072, 'aziz': 183, 'elected': 813, 'pak': 1836, 'amid': 79, 'boycott': 308, 'rest': 2180, 'rights': 2209, 'appears': 108, 'tip': 2705, 'reserve': 2176, 'grabs': 1117, 'plot': 1940, 'sunday': 2596, 'mourns': 1679, 'victims': 2849, 'martin': 1581, 'triumph': 2756, 'siemens': 2411, 'flaw': 985, 'york': 2993, 'delivery': 678, 'halliburton': 1157, 'stay': 2536, 'jobless': 1374, 'stalls': 2519, 'ok': 1784, 'mercenary': 1606, 'egypt': 807, 'rally': 2094, 'save': 2283, 'texas': 2674, 'mercenaries': 1605, 'farmers': 911, 'changes': 438, 'deals': 652, 'blow': 274, 'efforts': 806, 'puts': 2052, 'mountain': 1677, 'fischer': 974, 'fails': 897, 'making': 1555, 'love': 1532, 'sign': 2414, 'sharply': 2383, 'hockey': 1213, 'kashmir': 1399, 'abuses': 4, 'released': 2154, 'animals': 90, 'danger': 638, 'astros': 153, 'playoff': 1934, 'race': 2079, 'pushes': 2049, 'pa': 1827, 'shell': 2384, 'nigeria': 1742, 'ireland': 1342, 'peace': 1874, 'products': 2020, 'hackers': 1151, 'victory': 2850, 'ba': 184, 'debt': 656, 'qantas': 2056, 'nl': 1748, 'notables': 1755, 'hopeful': 1231, 'astronomers': 152, 'planets': 1922, 'yet': 2990, 'malaysia': 1556, 'anwar': 100, 'freed': 1034, 'firefox': 968, 'packers': 1830, 'panthers': 1843, 'delta': 680, 'military': 1630, 'details': 697, 'dual': 775, 'core': 575, 'consumers': 560, 'tvs': 2780, 'usatoday': 2824, 'walk': 2886, 'euro': 853, 'ever': 858, 'bond': 290, 'clears': 489, 'safety': 2265, 'panel': 1842, 'explosion': 879, 'guide': 1141, 'catch': 411, 'sun': 2595, 'fresh': 1038, 'despite': 695, 'homer': 1225, 'seat': 2317, 'usa': 2823, 'investor': 1330, 'daily': 635, 'error': 843, 'fly': 997, 'bounty': 303, 'kids': 1412, 'wpp': 2974, 'routers': 2241, 'effect': 803, 'history': 1208, 'distance': 731, 'finals': 953, 'bodies': 280, 'turkish': 2774, 'display': 728, 'putting': 2053, 'peril': 1887, 'seven': 2372, 'abu': 2, 'ghraib': 1086, 'james': 1362, 'england': 830, 'tests': 2673, 'positive': 1967, 'drugs': 774, 'best': 239, 'proposal': 2032, 'black': 258, 'envoy': 838, 'stock': 2546, 'pitcher': 1916, 'pop': 1961, 'fired': 967, 'denies': 687, 'info': 1301, 'petrova': 1891, 'upsets': 2817, 'mom': 1656, 'ease': 789, 'sco': 2302, 'needs': 1723, 'syria': 2626, 'finland': 965, 'cup': 621, 'boxing': 306, 'khan': 1408, 'haiti': 1153, 'mice': 1618, 'flex': 989, 'builds': 348, 'robot': 2222, 'walks': 2887, 'shares': 2380, 'without': 2950, 'asean': 141, 'ministers': 1638, 'spy': 2510, 'need': 1721, 'merger': 1608, 'sprinters': 2509, 'fujitsu': 1047, 'ally': 68, 'opposition': 1799, 'surprise': 2604, 'mlb': 1651, 'split': 2500, 'double': 750, 'cameras': 373, 'afghanistan': 33, 'dismissed': 725, 'refuses': 2144, 'kmart': 1422, 'hard': 1170, 'defends': 668, 'milosevic': 1634, 'federal': 929, 'judge': 1387, 'rain': 2090, 'sparks': 2492, 'emergency': 823, 'virginia': 2859, 'grenada': 1125, 'bird': 253, 'flu': 996, 'outside': 1819, 'zone': 2999, 'travel': 2743, 'child': 460, 'change': 436, 'revises': 2201, 'annual': 95, 'nestle': 1726, 'deadline': 649, 'brown': 336, 'family': 907, 'volume': 2871, 'threatens': 2688, 'macromedia': 1543, 'builder': 346, 'tough': 2722, 'enough': 831, 'notes': 1757, 'safer': 2264, 'nightmare': 1745, 'captain': 391, 'airlines': 56, 'holiday': 1219, 'gateway': 1066, 'cutting': 630, 'five': 978, 'delays': 673, 'trip': 2755, 'put': 2050, 'discuss': 722, 'ads': 25, 'groups': 1131, 'buckingham': 341, 'palace': 1839, 'batman': 212, 'prompts': 2031, 'full': 1048, 'white': 2932, 'longhorn': 1520, 'launch': 1454, 'bad': 189, 'blasts': 266, 'scandal': 2288, 'performance': 1886, 'earns': 786, 'baby': 186, 'mother': 1673, 'clear': 487, 'name': 1704, 'ban': 195, 'guantanamo': 1137, 'sea': 2310, 'netflix': 1728, 'laser': 1447, 'environment': 837, 'outlook': 1817, 'answers': 97, 'early': 784, 'recalled': 2127, 'harrington': 1173, 'spyware': 2511, 'solar': 2463, 'xm': 2981, 'short': 2396, 'chain': 427, 'store': 2552, 'slightly': 2441, 'zealand': 2996, 'bonuses': 292, 'thin': 2681, 'orange': 1805, 'fixing': 981, 'businesses': 353, 'berlusconi': 237, 'condemns': 546, 'reported': 2165, 'important': 1283, 'engine': 829, 'santander': 2275, 'blackberry': 259, 'russians': 2257, 'eight': 809, 'appear': 107, 'golf': 1107, 'lashes': 1448, 'gartner': 1063, 'share': 2378, 'resigns': 2177, 'coke': 513, 'lowers': 1536, 'shifts': 2386, 'result': 2182, 'friends': 1042, 'proves': 2040, 'ships': 2391, 'updated': 2808, 'works': 2964, 'blind': 267, 'bea': 219, 'hat': 1174, 'appoints': 113, 'cfo': 426, 'souness': 2477, 'newcastle': 1735, 'boss': 300, 'broncos': 334, 'bids': 246, 'wsj': 2978, 'lineup': 1501, 'draft': 760, 'sanctions': 2273, 'deserter': 692, 'jenkins': 1368, 'warning': 2898, 'devil': 707, 'rays': 2110, 'hours': 1240, 'interbrew': 1318, 'ambev': 74, 'create': 597, 'ground': 1129, 'fights': 945, 'chicago': 457, 'toronto': 2718, 'ministry': 1639, 'disrupt': 730, 'facing': 893, 'behind': 230, 'bars': 207, 'delayed': 672, 'threats': 2689, 'within': 2949, 'pack': 1829, 'markets': 1575, 'september': 2354, 'peoplesoft': 1882, 'dozens': 759, 'slain': 2435, 'judges': 1388, 'legal': 1481, 'clean': 486, 'act': 17, 'pain': 1834, 'warn': 2895, 'flaws': 986, 'loses': 1527, 'pilot': 1907, 'factory': 895, 'forecasts': 1013, 'files': 947, 'memory': 1602, 'technology': 2654, 'chess': 456, 'supply': 2598, 'paper': 1844, 'causes': 415, 'suicide': 2588, 'sources': 2479, 'arm': 128, 'michael': 1619, 'boost': 296, 'ryder': 2258, 'goal': 1100, 'agency': 41, 'intensifies': 1317, 'auto': 174, 'fell': 937, 'capture': 392, 'medals': 1594, 'rallies': 2093, 'volleyball': 2870, 'washington': 2902, 'hungarian': 1254, 'punch': 2047, 'michigan': 1620, 'capriati': 387, 'interoperability': 1323, 'upset': 2816, 'expands': 871, 'mexico': 1615, 'growing': 1133, 'partnership': 1853, 'veritas': 2842, 'named': 1705, 'partners': 1852, 'davenport': 643, 'handed': 1164, 'beijing': 231, 'journalist': 1383, 'quarterly': 2064, 'rising': 2214, 'lenovo': 1482, 'soon': 2473, 'reveal': 2195, 'unit': 2799, 'stripped': 2567, 'fund': 1050, 'capital': 386, 'wi': 2933, 'fi': 940, 'dementieva': 683, 'southern': 2481, 'movie': 1683, 'box': 305, 'enterprise': 834, 'jays': 1366, 'computer': 540, 'projects': 2028, 'bin': 252, 'laden': 1438, 'slides': 2440, 'river': 2219, 'climb': 494, 'nets': 1729, 'score': 2303, 'difficult': 711, 'predict': 1986, 'bankruptcy': 201, 'protection': 2036, 'embassy': 821, 'mets': 1613, 'iaea': 1263, 'poland': 1948, 'row': 2243, 'die': 709, 'bobby': 279, 'usc': 2825, 'almost': 69, 'every': 860, 'area': 125, 'raiders': 2087, 'added': 22, 'criticism': 608, 'grand': 1118, 'helps': 1193, 'lawyers': 1462, 'overcomes': 1821, 'belgian': 233, 'prix': 2007, 'friday': 1040, 'expects': 876, 'possible': 1968, 'telecom': 2659, 'feature': 926, 'forward': 1021, 'fat': 915, 'scare': 2289, 'muslim': 1698, 'monty': 1663, 'hk': 1212, 'clash': 482, 'northern': 1753, 'royal': 2244, 'sought': 2475, 'increases': 1289, 'spending': 2497, 'militant': 1628, 'ohio': 1782, 'dna': 735, 'fingerprint': 962, 'homers': 1226, 'fit': 977, 'ietf': 1270, 'amd': 75, 'inside': 1309, 'musharraf': 1695, 'islamic': 1344, 'athletes': 156, 'helping': 1192, 'debate': 655, 'gates': 1065, 'mail': 1549, 'chairman': 428, 'caps': 388, 'losses': 1530, 'mount': 1676, 'mini': 1636, 'drives': 769, 'calif': 364, 'schools': 2294, 'warned': 2896, 'identity': 1268, 'theft': 2680, 'route': 2240, 'clemens': 490, 'nine': 1747, 'streak': 2562, 'manage': 1559, 'bonds': 291, 'brokers': 333, 'estate': 849, 'consider': 556, 'plea': 1936, 'picks': 1903, 'karzai': 1398, 'curfew': 623, 'rd': 2112, 'driver': 767, 'retire': 2189, 'pitch': 1915, 'arrested': 133, 'drama': 761, 'secure': 2324, 'swimming': 2618, 'records': 2132, 'peirsol': 1877, 'flights': 992, 'worth': 2970, 'mulls': 1691, 'sports': 2502, 'de': 647, 'la': 1434, 'deaths': 654, 'hollywood': 1221, 'fail': 896, 'sell': 2337, 'tickets': 2695, 'transactions': 2740, 'hotel': 1238, 'bombs': 289, 'barrier': 206, 'eriksson': 842, 'situation': 2428, 'following': 1003, 'massacre': 1583, 'hints': 1204, 'houston': 1243, 'rating': 2105, 'reform': 2140, 'tops': 2717, 'concern': 543, 'phishing': 1898, 'freddie': 1032, 'poor': 1960, 'shape': 2376, 'spammers': 2489, 'venezuela': 2837, 'vendor': 2836, 'support': 2599, 'number': 1765, 'snaps': 2456, 'night': 1744, 'seattle': 2318, 'suffers': 2586, 'per': 1883, 'nigerian': 1743, 'senate': 2344, 'starting': 2529, 'zimbabwe': 2998, 'refugee': 2142, 'aid': 47, 'espn': 848, 'regulator': 2146, 'room': 2233, 'modest': 1655, 'investment': 1329, 'ulmer': 2791, 'carter': 404, 'suisse': 2589, 'ask': 144, 'block': 269, 'status': 2535, 'feared': 924, 'blockade': 270, 'giambi': 1087, 'mcafee': 1589, 'motley': 1674, 'fool': 1006, 'jackson': 1357, 'buzz': 359, 'earth': 787, 'larsson': 1446, 'celtic': 420, 'fan': 908, 'insurers': 1312, 'analysis': 82, 'deliver': 676, 'stays': 2537, 'titans': 2706, 'hidden': 1197, 'crm': 610, 'supreme': 2600, 'crimes': 604, 'dept': 690, 'donald': 745, 'masters': 1584, 'information': 1303, 'probed': 2011, 'wine': 2941, 'raises': 2092, 'reached': 2114, 'cal': 363, 'readies': 2116, 'app': 104, 'upgrade': 2810, 'conflict': 551, 'link': 1502, 'disease': 723, 'witness': 2951, 'immunity': 1280, 'flash': 983, 'missed': 1642, 'chance': 435, 'adultery': 26, 'project': 2027, 'browser': 338, 'struggles': 2571, 'recent': 2129, 'lows': 1537, 'cool': 572, 'weak': 2912, 'suits': 2591, 'presidential': 1990, 'cloud': 503, 'income': 1287, 'defense': 669, 'kathmandu': 1400, 'hdtv': 1177, 'links': 1504, 'assault': 147, 'strategy': 2560, 'critics': 609, 'flee': 987, 'arrest': 132, 'iranian': 1338, 'rookie': 2232, 'stops': 2550, 'let': 1484, 'cat': 410, 'sued': 2584, 'spanish': 2490, 'eds': 801, 'sap': 2276, 'applications': 111, 'privacy': 2005, 'cardinals': 396, 'private': 2006, 'rocket': 2225, 'explodes': 878, 'reopen': 2161, 'honda': 1228, 'annan': 91, 'tie': 2696, 'aussies': 171, 'king': 1420, 'bills': 251, 'woes': 2953, 'voters': 2874, 'aide': 48, 'surrender': 2605, 'assets': 150, 'moore': 1667, 'called': 367, 'criminal': 605, 'fewer': 939, 'students': 2572, 'defence': 667, 'lawyer': 1461, 'dent': 688, 'upgrades': 2811, 'gunmen': 1146, 'briton': 328, 'corporate': 577, 'dip': 714, 'computers': 541, 'convention': 571, 'imports': 1284, 'stall': 2518, 'many': 1566, 'extension': 887, 'fox': 1027, 'mortgage': 1670, 'electronics': 817, 'available': 175, 'mauresmo': 1587, 'virtual': 2860, 'highlights': 1200, 'brand': 312, 'sprinter': 2508, 'suspension': 2613, 'rouse': 2238, 'since': 2420, 'virgin': 2858, 'soars': 2458, 'greenspan': 1124, 'benefit': 235, 'postponed': 1971, 'related': 2151, 'players': 1932, 'rush': 2254, 'consumer': 559, 'tonight': 2713, 'funk': 1053, 'pound': 1975, 'clashes': 483, 'robson': 2223, 'beslan': 238, 'cowboys': 591, 'seahawks': 2311, 'failure': 898, 'fault': 918, 'pulls': 2046, 'shopping': 2395, 'demands': 682, 'bans': 203, 'energy': 828, 'mac': 1540, 'os': 1810, 'vw': 2879, 'national': 1711, 'munch': 1692, 'scream': 2306, 'stolen': 2548, 'connect': 555, 'alliance': 66, 'announce': 93, 'bangladesh': 197, 'climate': 493, 'tribunal': 2751, 'ufj': 2788, 'division': 734, 'softball': 2461, 'storage': 2551, 'dismisses': 726, 'mystery': 1702, 'kroger': 1432, 'islands': 1346, 'renault': 2159, 'bali': 193, 'going': 1103, 'rivals': 2218, 'lands': 1441, 'girl': 1091, 'pinsent': 1910, 'anniversary': 92, 'hope': 1230, 'unemployment': 2794, 'steady': 2538, 'declines': 663, 'fifth': 942, 'problem': 2013, 'uses': 2829, 'paid': 1833, 'barrichello': 205, 'plants': 1927, 'shiite': 2387, 'arrives': 136, 'watch': 2905, 'tunes': 2772, 'drive': 766, 'employees': 824, 'sentenced': 2352, 'training': 2739, 'getting': 1085, 'arrive': 135, 'small': 2450, 'telescope': 2660, 'captures': 393, 'draws': 763, 'suspended': 2611, 'manufacturing': 1565, 'confidence': 548, 'goals': 1101, 'awards': 181, 'cia': 469, 'pentagon': 1880, 'deng': 686, 'crackdown': 592, 'worries': 2968, 'bae': 190, 'saddam': 2262, 'reportedly': 2166, 'schering': 2291, 'plough': 1941, 'bayer': 217, 'indonesian': 1295, 'tackles': 2630, 'budget': 342, 'level': 1486, 'ousted': 1814, 'ms': 1688, 'releases': 2155, 'testing': 2672, 'culture': 620, 'flies': 990, 'downer': 756, 'sybase': 2623, 'express': 884, 'database': 641, 'copyright': 574, 'revenge': 2197, 'confusion': 552, 'fate': 916, 'discounts': 719, 'sues': 2585, 'book': 293, 'barrel': 204, 'jpeg': 1386, 'parties': 1850, 'import': 1282, 'gymnastics': 1149, 'scoring': 2305, 'close': 499, 'stars': 2526, 'indians': 1293, 'rb': 2111, 'weeks': 2923, 'perfect': 1885, 'saudi': 2281, 'confident': 549, 'pole': 1949, 'debuts': 658, 'libya': 1489, 'nears': 1719, 'ranking': 2100, 'dig': 712, 'machine': 1542, 'ice': 1266, 'expect': 873, 'cube': 618, 'hall': 1156, 'joins': 1379, 'arabia': 122, 'smithfield': 2453, 'buying': 356, 'foods': 1005, 'directors': 717, 'train': 2738, 'rockies': 2226, 'gibbs': 1090, 'redskins': 2136, 'militia': 1631, 'colorado': 518, 'taking': 2638, 'epson': 839, 'flying': 998, 'battles': 215, 'transmeta': 2742, 'questioned': 2069, 'body': 281, 'egyptian': 808, 'playing': 1933, 'friendly': 1041, 'deutsche': 699, 'boston': 301, 'scientific': 2299, 'stent': 2541, 'tied': 2697, 'assembly': 148, 'futures': 1056, 'sold': 2464, 'hang': 1168, 'northwest': 1754, 'clients': 492, 'approve': 117, 'upon': 2813, 'conference': 547, 'chechnya': 450, 'wage': 2880, 'fees': 935, 'aids': 49, 'event': 857, 'quits': 2074, 'sluggish': 2448, 'motorola': 1675, 'bell': 234, 'selling': 2338, 'little': 1510, 'pull': 2044, 'producer': 2017, 'nowhere': 1761, 'london': 1517, 'promises': 2030, 'care': 398, 'heinz': 1187, 'gov': 1112, 'arab': 121, 'utd': 2832, 'shuts': 2405, 'boy': 307, 'currency': 624, 'visits': 2864, 'upbeat': 2806, 'reject': 2148, 'owners': 1825, 'lock': 1515, 'dispute': 729, 'fiscal': 973, 'hill': 1203, 'ancient': 85, 'left': 1479, 'airport': 57, 'hamas': 1160, 'ring': 2210, 'opening': 1794, 'polls': 1957, 'phones': 1900, 'tiny': 2704, 'nfl': 1739, 'summary': 2592, 'im': 1275, 'gymnast': 1148, 'saudis': 2282, 'traction': 2733, 'tivo': 2708, 'widens': 2935, 'grow': 1132, 'desktop': 694, 'knee': 1423, 'johnson': 1377, 'demand': 681, 'saboteurs': 2261, 'email': 820, 'invest': 1327, 'takeover': 2635, 'becomes': 226, 'hub': 1248, 'ramirez': 2095, 'using': 2830, 'strained': 2559, 'nanometer': 1707, 'cheney': 455, 'comments': 527, 'freeze': 1036, 'lets': 1485, 'agencies': 40, 'krispy': 1431, 'scales': 2287, 'weaker': 2913, 'bounce': 302, 'ruling': 2249, 'commerce': 528, 'decide': 659, 'crew': 601, 'strain': 2558, 'circulation': 473, 'referendum': 2139, 'unfazed': 2796, 'settlements': 2368, 'bbc': 218, 'cycling': 633, 'san': 2272, 'francisco': 1030, 'saturday': 2279, 'qtr': 2058, 'revenue': 2198, 'controversy': 570, 'revolt': 2202, 'border': 298, 'political': 1954, 'sinks': 2424, 'cases': 406, 'sistani': 2425, 'howe': 1245, 'langer': 1442, 'states': 2533, 'quarters': 2065, 'tactics': 2631, 'unlikely': 2803, 'photo': 1901, 'eclipse': 795, 'among': 80, 'storms': 2555, 'cheap': 447, 'fbi': 920, 'semiconductor': 2341, 'southwest': 2482, 'due': 776, 'killer': 1415, 'suggests': 2587, 'sendo': 2347, 'director': 716, 'sue': 2583, 'voting': 2876, 'mr': 1687, 'ntt': 1762, 'docomo': 736, 'irish': 1343, 'prisoner': 2003, 'trim': 2754, 'equipment': 841, 'cities': 476, 'counties': 584, 'racing': 2081, 'survives': 2607, 'recall': 2126, 'funding': 1051, 'hammer': 1162, 'rail': 2089, 'sweet': 2617, 'food': 1004, 'dow': 754, 'jury': 1395, 'forms': 1019, 'path': 1862, 'pga': 1892, 'keeping': 1402, 'chelsea': 453, 'heavy': 1186, 'text': 2675, 'prisoners': 2004, 'hunger': 1256, 'reading': 2117, 'wary': 2901, 'latham': 1453, 'paris': 1845, 'celebrates': 417, 'serve': 2358, 'mine': 1635, 'doubleheader': 751, 'pirates': 1914, 'strikes': 2566, 'cars': 403, 'fee': 933, 'ubs': 2787, 'coverage': 590, 'voice': 2867, 'fans': 909, 'edges': 799, 'mourinho': 1678, 'hands': 1165, 'sd': 2309, 'protesters': 2038, 'check': 451, 'live': 1511, 'hitachi': 1210, 'ups': 2815, 'plunge': 1943, 'ftc': 1045, 'networks': 1732, 'closing': 502, 'trouble': 2761, 'seize': 2333, 'opportunity': 1798, 'march': 1569, 'jail': 1358, 'detroit': 698, 'wounded': 2972, 'padres': 1832, 'apps': 119, 'gb': 1071, 'duo': 777, 'customer': 626, 'shoots': 2393, 'picture': 1904, 'maker': 1552, 'position': 1966, 'setback': 2364, 'shines': 2388, 'chiefs': 459, 'held': 1188, 'changed': 437, 'passes': 1857, 'chargers': 442, 'hollinger': 1220, 'skills': 2432, 'dollars': 742, 'managed': 1560, 'renewed': 2160, 'coca': 511, 'cola': 514, 'jimenez': 1372, 'less': 1483, 'sosa': 2474, 'resumes': 2185, 'los': 1525, 'angeles': 86, 'true': 2765, 'raid': 2086, 'offices': 1779, 'june': 1394, 'ties': 2698, 'sweden': 2615, 'reward': 2204, 'mix': 1649, 'arafat': 123, 'mistakes': 1648, 'stewart': 2544, 'everton': 859, 'across': 16, 'dog': 739, 'journal': 1382, 'ink': 1307, 'add': 21, 'struggle': 2570, 'beer': 227, 'rnc': 2220, 'withdraw': 2947, 'saturn': 2280, 'given': 1093, 'population': 1964, 'policies': 1951, 'starter': 2528, 'children': 461, 'musicmatch': 1697, 'symantec': 2624, 'semi': 2340, 'scores': 2304, 'inc': 1286, 'disk': 724, 'shareholders': 2379, 'cloning': 498, 'quotas': 2077, 'question': 2068, 'trojan': 2757, 'complaint': 536, 'salvador': 2269, 'israelis': 1349, 'alleged': 65, 'unfair': 2795, 'practices': 1984, 'transfer': 2741, 'handsets': 1167, 'quarterfinals': 2063, 'pinochet': 1909, 'chile': 462, 'extra': 888, 'series': 2356, 'marines': 1571, 'villeneuve': 2855, 'freestyle': 1035, 'longer': 1519, 'challenge': 429, 'corp': 576, 'tools': 2715, 'hubble': 1249, 'allows': 67, 'settler': 2369, 'developer': 701, 'managers': 1563, 'asset': 149, 'manager': 1562, 'candidates': 381, 'retailers': 2188, 'argentina': 126, 'easy': 793, 'golds': 1106, 'college': 517, 'even': 856, 'studios': 2574, 'justice': 1396, 'cracks': 593, 'crime': 603, 'borland': 299, 'studio': 2573, 'colts': 519, 'mass': 1582, 'large': 1444, 'capsules': 390, 'britons': 329, 'download': 757, 'rip': 2211, 'gear': 1073, 'fein': 936, 'factories': 894, 'benefits': 236, 'chase': 445, 'reporter': 2167, 'secret': 2321, 'sector': 2323, 'counts': 586, 'reveals': 2196, 'deep': 664, 'clues': 505, 'fines': 961, 'breaking': 316, 'camera': 372, 'millions': 1633, 'eisner': 811, 'ways': 2911, 'brief': 321, 'follow': 1002, 'standards': 2522, 'malaysian': 1557, 'screen': 2307, 'fla': 982, 'vaccine': 2833, 'circuit': 472, 'optimism': 1801, 'toshiba': 2719, 'nepalese': 1725, 'station': 2534, 'format': 1017, 'jazeera': 1367, 'guidant': 1140, 'council': 582, 'pioneer': 1911, 'film': 949, 'dominates': 744, 'leading': 1469, 'sbc': 2286, 'hails': 1152, 'birth': 254, 'paul': 1865, 'enter': 833, 'politics': 1955, 'bit': 256, 'slower': 2446, 'halfway': 1155, 'introduces': 1325, 'crown': 613, 'testimony': 2671, 'giving': 1095, 'sure': 2601, 'nz': 1769, 'coming': 526, 'rescue': 2173, 'region': 2145, 'babies': 185, 'fm': 999, 'offerings': 1776, 'idf': 1269, 'operation': 1796, 'camp': 374, 'lives': 1513, 'rocks': 2227, 'mark': 1572, 'buick': 344, 'marks': 1576, 'playboy': 1930, 'wide': 2934, 'foster': 1022, 'cooperation': 573, 'sabotage': 2260, 'iraqis': 1341, 'rebounds': 2125, 'urge': 2819, 'madden': 1545, 'revolution': 2203, 'reforms': 2141, 'belarus': 232, 'arizona': 127, 'mutual': 1700, 'nazi': 1713, 'try': 2766, 'artisan': 140, 'america': 76, 'taliban': 2639, 'ray': 2109, 'parmalat': 1848, 'repair': 2162, 'derail': 691, 'rumsfeld': 2250, 'doubt': 753, 'pollution': 1958, 'town': 2728, 'sound': 2476, 'searches': 2314, 'kuznetsova': 1433, 'nyc': 1768, 'snap': 2455, 'sa': 2259, 'georgia': 1078, 'sutton': 2614, 'schilling': 2292, 'pakistani': 1838, 'spa': 2485, 'practice': 1983, 'application': 110, 'patriots': 1863, 'weakness': 2914, 'holes': 1218, 'tribune': 2752, 'columnists': 520, 'recognition': 2130, 'done': 746, 'tiger': 2699, 'creditors': 600, 'centrino': 424, 'cease': 416, 'develop': 700, 'rovers': 2242, 'messaging': 1611, 'anger': 88, 'arroyo': 137, 'aussie': 170, 'qaeda': 2054, 'seeking': 2329, 'shoppers': 2394, 'wanted': 2890, 'seventh': 2373, 'discovered': 720, 'philippines': 1896, 'single': 2423, 'financial': 955, 'combat': 522, 'anxious': 101, 'special': 2493, 'filing': 948, 'banker': 199, 'championship': 434, 'treasury': 2745, 'brewers': 319, 'hiring': 1206, 'mad': 1544, 'hare': 1172, 'au': 164, 'td': 2649, 'banknorth': 200, 'cuban': 617, 'afghans': 34, 'kim': 1419, 'museum': 1694, 'quattrone': 2066, 'jailed': 1359, 'beyond': 243, 'suspect': 2608, 'curb': 622, 'wake': 2884, 'limits': 1498, 'veteran': 2845, 'oxygen': 1826, 'generator': 1075, 'insurance': 1311, 'thai': 2677, 'devices': 706, 'guy': 1147, 'petition': 1890, 'blows': 275, 'straw': 2561, 'vonage': 2872, 'oakland': 1770, 'fedex': 931, 'starbucks': 2525, 'pricing': 1996, 'tanks': 2642, 'breakthrough': 318, 'defeats': 666, 'expand': 870, 'emc': 822, 'swing': 2619, 'nasdaq': 1709, 'plummets': 1942, 'retreat': 2191, 'trend': 2746, 'families': 906, 'gerrard': 1082, 'gather': 1067, 'witnesses': 2952, 'fallujah': 903, 'stand': 2520, 'continental': 563, 'spreads': 2506, 'ft': 1044, 'siliconvalley': 2418, 'schroeder': 2295, 'enters': 835, 'crawford': 596, 'briefs': 323, 'patterson': 1864, 'faster': 913, 'withdrawal': 2948, 'wounds': 2973, 'restructuring': 2181, 'yemeni': 2988, 'stroke': 2568, 'profile': 2021, 'pensions': 1879, 'considers': 557, 'shift': 2385, 'ago': 42, 'braves': 313, 'books': 294, 'explosions': 880, 'hybrid': 1262, 'come': 523, 'self': 2335, 'worldwide': 2966, 'shipments': 2390, 'venus': 2840, 'blood': 272, 'cos': 578, 'via': 2847, 'races': 2080, 'eighth': 810, 'chechens': 449, 'bomber': 285, 'brace': 309, 'opts': 1803, 'welcomes': 2928, 'uprising': 2814, 'spots': 2505, 'classic': 485, 'paying': 1867, 'techweb': 2656, 'float': 993, 'terrorists': 2669, 'ticket': 2694, 'son': 2469, 'processor': 2016, 'selig': 2336, 'completes': 538, 'lockout': 1516, 'pool': 1959, 'interview': 1324, 'intelligence': 1316, 'challenges': 430, 'waiting': 2882, 'congress': 554, 'liverpool': 1512, 'weightlifter': 2926, 'touts': 2725, 'human': 1252, 'grip': 1128, 'throw': 2691, 'land': 1439, 'infocus': 1302, 'improve': 1285, 'mode': 1654, 'showdown': 2400, 'unveil': 2804, 'jewish': 1371, 'rfid': 2205, 'quota': 2076, 'sixth': 2430, 'lithuania': 1509, 'trials': 2749, 'italians': 1353, 'concerned': 544, 'coalition': 509, 'actions': 19, 'lawsuits': 1460, 'aircraft': 54, 'upholds': 2812, 'martha': 1580, 'hearing': 1183, 'nothing': 1758, 'band': 196, 'stuns': 2577, 'ip': 1334, 'outsourcing': 1820, 'spies': 2498, 'lack': 1437, 'device': 705, 'throws': 2692, 'attempt': 163, 'matsushita': 1586, 'dust': 779, 'seed': 2327, 'secrets': 2322, 'broker': 332, 'bug': 343, 'might': 1626, 'czech': 634, 'pieces': 1905, 'popular': 1963, 'qualifier': 2060, 'looms': 1524, 'sri': 2513, 'lanka': 1443, 'chen': 454, 'regulators': 2147, 'contest': 562, 'co': 507, 'total': 2720, 'instant': 1310, 'tap': 2643, 'monza': 1664, 'protect': 2035, 'entry': 836, 'sky': 2433, 'tracks': 2732, 'nod': 1749, 'april': 120, 'mouse': 1680, 'founder': 1024, 'commission': 530, 'msn': 1689, 'accepts': 6, 'drivers': 768, 'turmoil': 2775, 'buyout': 357, 'tightens': 2701, 'exchange': 863, 'gaming': 1061, 'songs': 2471, 'republicans': 2171, 'eta': 851, 'ea': 782, 'gp': 1116, 'feeling': 934, 'pre': 1985, 'opteron': 1800, 'used': 2827, 'hour': 1239, 'bolton': 283, 'kenteris': 1404, 'quit': 2073, 'amateur': 72, 'construction': 558, 'execs': 865, 'capacity': 385, 'semis': 2343, 'chapter': 439, 'judging': 1389, 'philadelphia': 1894, 'pride': 1997, 'controls': 569, 'customers': 627, 'meetings': 1599, 'bail': 192, 'mcdonald': 1590, 'abducted': 1, 'delegates': 674, 'lcd': 1465, 'catching': 412, 'earthquakes': 788, 'caught': 413, 'allawi': 64, 'escapes': 847, 'approaches': 115, 'turnaround': 2777, 'peterson': 1889, 'meter': 1612, 'dhaka': 708, 'assassination': 146, 'headscarf': 1180, 'retires': 2190, 'pledge': 1938, 'qualifying': 2061, 'reduce': 2137, 'auditor': 167, 'postal': 1970, 'warnings': 2899, 'university': 2802, 'birthday': 255, 'declares': 661, 'midday': 1624, 'greeks': 1122, 'index': 1290, 'xbox': 2980, 'pick': 1902, 'mercury': 1607, 'ncaa': 1715, 'cycle': 632, 'word': 2959, 'selection': 2334, 'beta': 240, 'insurgents': 1313, 'fixes': 980, 'compromise': 539, 'lifted': 1492, 'proposes': 2033, 'dutch': 780, 'poised': 1947, 'promise': 2029, 'development': 703, 'atomic': 160, 'sight': 2412, 'sharapova': 2377, 'ten': 2663, 'lowe': 1534, 'skype': 2434, 'tuesday': 2768, 'members': 1601, 'john': 1376, 'forest': 1015, 'illinois': 1274, 'falluja': 902, 'kick': 1409, 'owner': 1824, 'alaska': 60, 'leg': 1480, 'spark': 2491, 'bridge': 320, 'em': 819, 'postpones': 1972, 'community': 531, 'never': 1733, 'netscape': 1730, 'shrinking': 2403, 'welcome': 2927, 'accord': 9, 'angry': 89, 'thorpe': 2684, 'door': 748, 'doctors': 737, 'standoff': 2523, 'website': 2918, 'executives': 867, 'puerto': 2043, 'candidate': 380, 'glaxo': 1096, 'button': 354, 'outbreak': 1815, 'troop': 2758, 'sworn': 2622, 'spirit': 2499, 'kiwi': 1421, 'ioc': 1333, 'statement': 2532, 'stunned': 2576, 'applied': 112, 'offense': 1772, 'magic': 1548, 'sanders': 2274, 'takers': 2636, 'ravaged': 2107, 'yields': 2992} "
     ]
    }
   ],
   "source": [
    "# Print our features\n",
    "\n",
    "features = tfidf_vectorizer.get_feature_names_out()\n",
    "print(tfidf_vectorizer.vocabulary_, end=' ')"
   ]
  },
  {
   "cell_type": "code",
   "execution_count": 72,
   "id": "2b1d2d50-a90d-4f23-8dd4-fe86285d9b00",
   "metadata": {},
   "outputs": [
    {
     "name": "stdout",
     "output_type": "stream",
     "text": [
      "1000\n"
     ]
    }
   ],
   "source": [
    "print(len(features))"
   ]
  },
  {
   "cell_type": "markdown",
   "id": "00c8896a-912f-4ae6-93e7-bcc49eb426ac",
   "metadata": {},
   "source": [
    "Note, the vectorizer produces a value for a specific word on a scale of 0 to 1. The closer the number is to 1, the more unique that word is."
   ]
  },
  {
   "cell_type": "code",
   "execution_count": 73,
   "id": "67589178-9134-4c03-83f3-28437806b88b",
   "metadata": {},
   "outputs": [
    {
     "ename": "NameError",
     "evalue": "name 'train_desc_features' is not defined",
     "output_type": "error",
     "traceback": [
      "\u001b[1;31m---------------------------------------------------------------------------\u001b[0m",
      "\u001b[1;31mNameError\u001b[0m                                 Traceback (most recent call last)",
      "Cell \u001b[1;32mIn[73], line 3\u001b[0m\n\u001b[0;32m      1\u001b[0m \u001b[38;5;66;03m# Save the TF-IDF feature matrices\u001b[39;00m\n\u001b[1;32m----> 3\u001b[0m pd\u001b[38;5;241m.\u001b[39mDataFrame(\u001b[43mtrain_desc_features\u001b[49m\u001b[38;5;241m.\u001b[39mtoarray())\u001b[38;5;241m.\u001b[39mto_csv(os\u001b[38;5;241m.\u001b[39mpath\u001b[38;5;241m.\u001b[39mjoin(feature_data_dir, \u001b[38;5;124m'\u001b[39m\u001b[38;5;124mtrain_desc_features.csv\u001b[39m\u001b[38;5;124m'\u001b[39m), index\u001b[38;5;241m=\u001b[39m\u001b[38;5;28;01mFalse\u001b[39;00m)\n\u001b[0;32m      4\u001b[0m pd\u001b[38;5;241m.\u001b[39mDataFrame(test_desc_features\u001b[38;5;241m.\u001b[39mtoarray())\u001b[38;5;241m.\u001b[39mto_csv(os\u001b[38;5;241m.\u001b[39mpath\u001b[38;5;241m.\u001b[39mjoin(feature_data_dir, \u001b[38;5;124m'\u001b[39m\u001b[38;5;124mtest_desc_featuress.csv\u001b[39m\u001b[38;5;124m'\u001b[39m), index\u001b[38;5;241m=\u001b[39m\u001b[38;5;28;01mFalse\u001b[39;00m)\n\u001b[0;32m      5\u001b[0m pd\u001b[38;5;241m.\u001b[39mDataFrame(train_title_features\u001b[38;5;241m.\u001b[39mtoarray())\u001b[38;5;241m.\u001b[39mto_csv(os\u001b[38;5;241m.\u001b[39mpath\u001b[38;5;241m.\u001b[39mjoin(feature_data_dir, \u001b[38;5;124m'\u001b[39m\u001b[38;5;124mtrain_title_features.csv\u001b[39m\u001b[38;5;124m'\u001b[39m), index\u001b[38;5;241m=\u001b[39m\u001b[38;5;28;01mFalse\u001b[39;00m)\n",
      "\u001b[1;31mNameError\u001b[0m: name 'train_desc_features' is not defined"
     ]
    }
   ],
   "source": [
    "# Save the TF-IDF feature matrices\n",
    "\n",
    "pd.DataFrame(train_desc_features.toarray()).to_csv(os.path.join(feature_data_dir, 'train_desc_features.csv'), index=False)\n",
    "pd.DataFrame(test_desc_features.toarray()).to_csv(os.path.join(feature_data_dir, 'test_desc_featuress.csv'), index=False)\n",
    "pd.DataFrame(train_title_features.toarray()).to_csv(os.path.join(feature_data_dir, 'train_title_features.csv'), index=False)\n",
    "pd.DataFrame(test_title_features.toarray()).to_csv(os.path.join(feature_data_dir, 'test_title_featuress.csv'), index=False)"
   ]
  },
  {
   "cell_type": "markdown",
   "id": "fb26fb14-aaca-4d59-a48a-6cf31e68d181",
   "metadata": {},
   "source": [
    "# EDA"
   ]
  },
  {
   "cell_type": "code",
   "execution_count": 74,
   "id": "8a6f59a9-5f6f-45ec-9033-370d551893f6",
   "metadata": {},
   "outputs": [
    {
     "data": {
      "image/png": "[encoded data removed]",
      "text/plain": [
       "<Figure size 1000x600 with 1 Axes>"
      ]
     },
     "metadata": {},
     "output_type": "display_data"
    }
   ],
   "source": [
    "# Sum the counts of each index\n",
    "class_counts = df_train['Class Index'].value_counts().reset_index()\n",
    "\n",
    "# Visualize class distribution\n",
    "plt.figure(figsize=(10, 6))\n",
    "sns.barplot(data=class_counts, x='Class Index', y='count', hue='count')\n",
    "plt.title('Class Distribution')\n",
    "plt.xlabel('Category')\n",
    "plt.ylabel('Count')\n",
    "plt.xticks(rotation=45)\n",
    "plt.show()"
   ]
  },
  {
   "cell_type": "code",
   "execution_count": 75,
   "id": "ae5d606f-03f5-479c-a1a3-0df0683ad82d",
   "metadata": {},
   "outputs": [
    {
     "name": "stdout",
     "output_type": "stream",
     "text": [
      "Class Balance:\n",
      "             count\n",
      "count     4.000000\n",
      "mean   6375.000000\n",
      "std     329.569416\n",
      "min    5953.000000\n",
      "25%    6193.000000\n",
      "50%    6452.000000\n",
      "75%    6634.000000\n",
      "max    6643.000000\n"
     ]
    }
   ],
   "source": [
    "# Summary statistics of class distribution\n",
    "\n",
    "class_balance = class_counts.describe()\n",
    "print(\"Class Balance:\")\n",
    "print(class_balance)"
   ]
  },
  {
   "cell_type": "markdown",
   "id": "a4b3df77-f6f1-492b-931f-ee7c7c0a3998",
   "metadata": {},
   "source": [
    "Note that there is a fair even distribution of categories in our training dataset. No further resampling techniques needed."
   ]
  },
  {
   "cell_type": "code",
   "execution_count": 158,
   "id": "1e3d05a8-1e8e-429e-aa32-cd2a14e7074a",
   "metadata": {},
   "outputs": [],
   "source": [
    "# Debugging Word Frequence Analysis\n",
    "\n",
    "class_filter = df['Class Index'] == 1\n",
    "df_filter = df[class_filter]"
   ]
  },
  {
   "cell_type": "code",
   "execution_count": 185,
   "id": "ac4bebfc-f366-4a8c-8244-077547b6131f",
   "metadata": {},
   "outputs": [
    {
     "name": "stdout",
     "output_type": "stream",
     "text": [
      "\n",
      "Index One - Most Common Words:\n",
      "[('r', 6), ('e', 6), ('a', 5), ('o', 5), ('c', 4), ('l', 4), ('s', 3), ('t', 2), ('m', 2), ('y', 1), ('k', 1), ('w', 1), ('d', 1), ('i', 1), ('p', 1), ('u', 1)]\n",
      "\n",
      "Index Two - Most Common Words:\n",
      "[('o', 8), ('l', 3), ('e', 3), ('c', 3), ('u', 3), ('s', 3), ('t', 3), ('k', 2), ('r', 2), ('i', 1), ('n', 1), ('m', 1), ('y', 1), ('d', 1)]\n",
      "\n",
      "Index Three - Most Common Words:\n",
      "[('e', 6), ('i', 5), ('r', 5), ('t', 4), ('s', 4), ('a', 3), ('l', 3), ('o', 3), ('p', 3), ('n', 3), ('h', 2), ('u', 2), ('q', 1), ('x', 1), ('m', 1)]\n",
      "\n",
      "Index Four - Most Common Words:\n",
      "[('e', 7), ('o', 6), ('i', 4), ('r', 4), ('c', 4), ('s', 4), ('n', 4), ('p', 3), ('a', 3), ('m', 3), ('l', 1), ('t', 1), ('d', 1), ('g', 1), ('w', 1), ('u', 1), ('y', 1), ('f', 1)]\n"
     ]
    }
   ],
   "source": [
    "# Word Frequency Analysis\n",
    "\n",
    "for index in range(len(df['Class Index'])):\n",
    "    if index == 1:\n",
    "        index_list_one = ' '.join(df.iloc[index,1]).split()\n",
    "        word_counts_one = Counter(index_list_one)\n",
    "    elif index == 2:\n",
    "        index_list_two = ' '.join(df.iloc[index,1]).split()\n",
    "        word_counts_two = Counter(index_list_two)\n",
    "    elif index == 3:\n",
    "        index_list_three = ' '.join(df.iloc[index,1]).split()\n",
    "        word_counts_three = Counter(index_list_three)\n",
    "    elif index == 4:\n",
    "        index_list_four = ' '.join(df.iloc[index,1]).split()\n",
    "        word_counts_four = Counter(index_list_four)\n",
    "        \n",
    "one_common_words = word_counts_one.most_common(30)\n",
    "two_common_words = word_counts_two.most_common(30)\n",
    "three_common_words = word_counts_three.most_common(30)\n",
    "four_common_words = word_counts_four.most_common(30)\n",
    "\n",
    "print(\"\\nIndex One - Most Common Words:\")\n",
    "print(one_common_words)\n",
    "print(\"\\nIndex Two - Most Common Words:\")\n",
    "print(two_common_words)\n",
    "print(\"\\nIndex Three - Most Common Words:\")\n",
    "print(three_common_words)\n",
    "print(\"\\nIndex Four - Most Common Words:\")\n",
    "print(four_common_words)\n",
    "    "
   ]
  },
  {
   "cell_type": "code",
   "execution_count": 157,
   "id": "c8842160-1fad-45f1-ab26-0cafea59480a",
   "metadata": {},
   "outputs": [
    {
     "data": {
      "image/png": "[encoded data removed]",
      "text/plain": [
       "<Figure size 1000x600 with 1 Axes>"
      ]
     },
     "metadata": {},
     "output_type": "display_data"
    }
   ],
   "source": [
    "# Vizualize word frequence\n",
    "\n",
    "plt.figure(figsize=(10, 6))\n",
    "sns.barplot(x=[word[0] for word in one_common_words], y=[word[1] for word in one_common_words])\n",
    "plt.title('Most Common Words in World News')\n",
    "plt.xlabel('Word')\n",
    "plt.ylabel('Frequency')\n",
    "plt.xticks(rotation=45)\n",
    "plt.show()"
   ]
  },
  {
   "cell_type": "code",
   "execution_count": 126,
   "id": "316c286c-7fc0-4c5f-90d7-e36a56f1d34d",
   "metadata": {},
   "outputs": [
    {
     "name": "stdout",
     "output_type": "stream",
     "text": [
      "0         7\n",
      "1         6\n",
      "2         6\n",
      "3         8\n",
      "4        11\n",
      "         ..\n",
      "29995     7\n",
      "29996     8\n",
      "29997     7\n",
      "29998     6\n",
      "29999     2\n",
      "Name: title_length, Length: 30000, dtype: int64\n"
     ]
    }
   ],
   "source": [
    "# Get title lengths for each row\n",
    "\n",
    "df_train['title_length'] = df_train['Title'].apply(lambda x: len(x.split()))\n",
    "print(df['title_length'])\n",
    "\n",
    "# Modifying df_test for future use\n",
    "df_test['title_length'] = df_test['Title'].apply(lambda x: len(x.split()))"
   ]
  },
  {
   "cell_type": "code",
   "execution_count": 80,
   "id": "b3a8cd83-049e-4827-88bb-1abc667f7a48",
   "metadata": {},
   "outputs": [
    {
     "data": {
      "image/png": "[encoded data removed]",
      "text/plain": [
       "<Figure size 1000x600 with 1 Axes>"
      ]
     },
     "metadata": {},
     "output_type": "display_data"
    }
   ],
   "source": [
    "# Title length analysis\n",
    "\n",
    "plt.figure(figsize=(10, 6))\n",
    "sns.histplot(df_train['title_length'], bins=15)\n",
    "plt.title('Distribution of Title Lengths')\n",
    "plt.xlabel('Title Length')\n",
    "plt.ylabel('Frequency')\n",
    "plt.grid(axis='y', linestyle='--', alpha=0.7)\n",
    "plt.tight_layout()"
   ]
  },
  {
   "cell_type": "markdown",
   "id": "58b2092d-8b39-4af7-87d8-f68dae1ac8f6",
   "metadata": {},
   "source": [
    "Note that the distribution of our title lengths is right-skew"
   ]
  },
  {
   "cell_type": "code",
   "execution_count": 100,
   "id": "2596f239-a78f-42a0-a423-c89efab83248",
   "metadata": {},
   "outputs": [],
   "source": [
    "tfidf_df = pd.DataFrame(train_title_features.toarray())"
   ]
  },
  {
   "cell_type": "code",
   "execution_count": 101,
   "id": "acaf070b-7302-4fba-81c3-edefa54ceb8f",
   "metadata": {},
   "outputs": [
    {
     "data": {
      "text/html": [
       "<div>\n",
       "<style scoped>\n",
       "    .dataframe tbody tr th:only-of-type {\n",
       "        vertical-align: middle;\n",
       "    }\n",
       "\n",
       "    .dataframe tbody tr th {\n",
       "        vertical-align: top;\n",
       "    }\n",
       "\n",
       "    .dataframe thead th {\n",
       "        text-align: right;\n",
       "    }\n",
       "</style>\n",
       "<table border=\"1\" class=\"dataframe\">\n",
       "  <thead>\n",
       "    <tr style=\"text-align: right;\">\n",
       "      <th></th>\n",
       "      <th>0</th>\n",
       "      <th>1</th>\n",
       "      <th>2</th>\n",
       "      <th>3</th>\n",
       "      <th>4</th>\n",
       "      <th>5</th>\n",
       "      <th>6</th>\n",
       "      <th>7</th>\n",
       "      <th>8</th>\n",
       "      <th>9</th>\n",
       "      <th>...</th>\n",
       "      <th>2990</th>\n",
       "      <th>2991</th>\n",
       "      <th>2992</th>\n",
       "      <th>2993</th>\n",
       "      <th>2994</th>\n",
       "      <th>2995</th>\n",
       "      <th>2996</th>\n",
       "      <th>2997</th>\n",
       "      <th>2998</th>\n",
       "      <th>2999</th>\n",
       "    </tr>\n",
       "  </thead>\n",
       "  <tbody>\n",
       "    <tr>\n",
       "      <th>0</th>\n",
       "      <td>0.0</td>\n",
       "      <td>0.0</td>\n",
       "      <td>0.0</td>\n",
       "      <td>0.0</td>\n",
       "      <td>0.0</td>\n",
       "      <td>0.0</td>\n",
       "      <td>0.0</td>\n",
       "      <td>0.0</td>\n",
       "      <td>0.0</td>\n",
       "      <td>0.0</td>\n",
       "      <td>...</td>\n",
       "      <td>0.0</td>\n",
       "      <td>0.0</td>\n",
       "      <td>0.0</td>\n",
       "      <td>0.0</td>\n",
       "      <td>0.0</td>\n",
       "      <td>0.0</td>\n",
       "      <td>0.0</td>\n",
       "      <td>0.0</td>\n",
       "      <td>0.0</td>\n",
       "      <td>0.0</td>\n",
       "    </tr>\n",
       "    <tr>\n",
       "      <th>1</th>\n",
       "      <td>0.0</td>\n",
       "      <td>0.0</td>\n",
       "      <td>0.0</td>\n",
       "      <td>0.0</td>\n",
       "      <td>0.0</td>\n",
       "      <td>0.0</td>\n",
       "      <td>0.0</td>\n",
       "      <td>0.0</td>\n",
       "      <td>0.0</td>\n",
       "      <td>0.0</td>\n",
       "      <td>...</td>\n",
       "      <td>0.0</td>\n",
       "      <td>0.0</td>\n",
       "      <td>0.0</td>\n",
       "      <td>0.0</td>\n",
       "      <td>0.0</td>\n",
       "      <td>0.0</td>\n",
       "      <td>0.0</td>\n",
       "      <td>0.0</td>\n",
       "      <td>0.0</td>\n",
       "      <td>0.0</td>\n",
       "    </tr>\n",
       "    <tr>\n",
       "      <th>2</th>\n",
       "      <td>0.0</td>\n",
       "      <td>0.0</td>\n",
       "      <td>0.0</td>\n",
       "      <td>0.0</td>\n",
       "      <td>0.0</td>\n",
       "      <td>0.0</td>\n",
       "      <td>0.0</td>\n",
       "      <td>0.0</td>\n",
       "      <td>0.0</td>\n",
       "      <td>0.0</td>\n",
       "      <td>...</td>\n",
       "      <td>0.0</td>\n",
       "      <td>0.0</td>\n",
       "      <td>0.0</td>\n",
       "      <td>0.0</td>\n",
       "      <td>0.0</td>\n",
       "      <td>0.0</td>\n",
       "      <td>0.0</td>\n",
       "      <td>0.0</td>\n",
       "      <td>0.0</td>\n",
       "      <td>0.0</td>\n",
       "    </tr>\n",
       "    <tr>\n",
       "      <th>3</th>\n",
       "      <td>0.0</td>\n",
       "      <td>0.0</td>\n",
       "      <td>0.0</td>\n",
       "      <td>0.0</td>\n",
       "      <td>0.0</td>\n",
       "      <td>0.0</td>\n",
       "      <td>0.0</td>\n",
       "      <td>0.0</td>\n",
       "      <td>0.0</td>\n",
       "      <td>0.0</td>\n",
       "      <td>...</td>\n",
       "      <td>0.0</td>\n",
       "      <td>0.0</td>\n",
       "      <td>0.0</td>\n",
       "      <td>0.0</td>\n",
       "      <td>0.0</td>\n",
       "      <td>0.0</td>\n",
       "      <td>0.0</td>\n",
       "      <td>0.0</td>\n",
       "      <td>0.0</td>\n",
       "      <td>0.0</td>\n",
       "    </tr>\n",
       "    <tr>\n",
       "      <th>4</th>\n",
       "      <td>0.0</td>\n",
       "      <td>0.0</td>\n",
       "      <td>0.0</td>\n",
       "      <td>0.0</td>\n",
       "      <td>0.0</td>\n",
       "      <td>0.0</td>\n",
       "      <td>0.0</td>\n",
       "      <td>0.0</td>\n",
       "      <td>0.0</td>\n",
       "      <td>0.0</td>\n",
       "      <td>...</td>\n",
       "      <td>0.0</td>\n",
       "      <td>0.0</td>\n",
       "      <td>0.0</td>\n",
       "      <td>0.0</td>\n",
       "      <td>0.0</td>\n",
       "      <td>0.0</td>\n",
       "      <td>0.0</td>\n",
       "      <td>0.0</td>\n",
       "      <td>0.0</td>\n",
       "      <td>0.0</td>\n",
       "    </tr>\n",
       "    <tr>\n",
       "      <th>...</th>\n",
       "      <td>...</td>\n",
       "      <td>...</td>\n",
       "      <td>...</td>\n",
       "      <td>...</td>\n",
       "      <td>...</td>\n",
       "      <td>...</td>\n",
       "      <td>...</td>\n",
       "      <td>...</td>\n",
       "      <td>...</td>\n",
       "      <td>...</td>\n",
       "      <td>...</td>\n",
       "      <td>...</td>\n",
       "      <td>...</td>\n",
       "      <td>...</td>\n",
       "      <td>...</td>\n",
       "      <td>...</td>\n",
       "      <td>...</td>\n",
       "      <td>...</td>\n",
       "      <td>...</td>\n",
       "      <td>...</td>\n",
       "      <td>...</td>\n",
       "    </tr>\n",
       "    <tr>\n",
       "      <th>25495</th>\n",
       "      <td>0.0</td>\n",
       "      <td>0.0</td>\n",
       "      <td>0.0</td>\n",
       "      <td>0.0</td>\n",
       "      <td>0.0</td>\n",
       "      <td>0.0</td>\n",
       "      <td>0.0</td>\n",
       "      <td>0.0</td>\n",
       "      <td>0.0</td>\n",
       "      <td>0.0</td>\n",
       "      <td>...</td>\n",
       "      <td>0.0</td>\n",
       "      <td>0.0</td>\n",
       "      <td>0.0</td>\n",
       "      <td>0.0</td>\n",
       "      <td>0.0</td>\n",
       "      <td>0.0</td>\n",
       "      <td>0.0</td>\n",
       "      <td>0.0</td>\n",
       "      <td>0.0</td>\n",
       "      <td>0.0</td>\n",
       "    </tr>\n",
       "    <tr>\n",
       "      <th>25496</th>\n",
       "      <td>0.0</td>\n",
       "      <td>0.0</td>\n",
       "      <td>0.0</td>\n",
       "      <td>0.0</td>\n",
       "      <td>0.0</td>\n",
       "      <td>0.0</td>\n",
       "      <td>0.0</td>\n",
       "      <td>0.0</td>\n",
       "      <td>0.0</td>\n",
       "      <td>0.0</td>\n",
       "      <td>...</td>\n",
       "      <td>0.0</td>\n",
       "      <td>0.0</td>\n",
       "      <td>0.0</td>\n",
       "      <td>0.0</td>\n",
       "      <td>0.0</td>\n",
       "      <td>0.0</td>\n",
       "      <td>0.0</td>\n",
       "      <td>0.0</td>\n",
       "      <td>0.0</td>\n",
       "      <td>0.0</td>\n",
       "    </tr>\n",
       "    <tr>\n",
       "      <th>25497</th>\n",
       "      <td>0.0</td>\n",
       "      <td>0.0</td>\n",
       "      <td>0.0</td>\n",
       "      <td>0.0</td>\n",
       "      <td>0.0</td>\n",
       "      <td>0.0</td>\n",
       "      <td>0.0</td>\n",
       "      <td>0.0</td>\n",
       "      <td>0.0</td>\n",
       "      <td>0.0</td>\n",
       "      <td>...</td>\n",
       "      <td>0.0</td>\n",
       "      <td>0.0</td>\n",
       "      <td>0.0</td>\n",
       "      <td>0.0</td>\n",
       "      <td>0.0</td>\n",
       "      <td>0.0</td>\n",
       "      <td>0.0</td>\n",
       "      <td>0.0</td>\n",
       "      <td>0.0</td>\n",
       "      <td>0.0</td>\n",
       "    </tr>\n",
       "    <tr>\n",
       "      <th>25498</th>\n",
       "      <td>0.0</td>\n",
       "      <td>0.0</td>\n",
       "      <td>0.0</td>\n",
       "      <td>0.0</td>\n",
       "      <td>0.0</td>\n",
       "      <td>0.0</td>\n",
       "      <td>0.0</td>\n",
       "      <td>0.0</td>\n",
       "      <td>0.0</td>\n",
       "      <td>0.0</td>\n",
       "      <td>...</td>\n",
       "      <td>0.0</td>\n",
       "      <td>0.0</td>\n",
       "      <td>0.0</td>\n",
       "      <td>0.0</td>\n",
       "      <td>0.0</td>\n",
       "      <td>0.0</td>\n",
       "      <td>0.0</td>\n",
       "      <td>0.0</td>\n",
       "      <td>0.0</td>\n",
       "      <td>0.0</td>\n",
       "    </tr>\n",
       "    <tr>\n",
       "      <th>25499</th>\n",
       "      <td>0.0</td>\n",
       "      <td>0.0</td>\n",
       "      <td>0.0</td>\n",
       "      <td>0.0</td>\n",
       "      <td>0.0</td>\n",
       "      <td>0.0</td>\n",
       "      <td>0.0</td>\n",
       "      <td>0.0</td>\n",
       "      <td>0.0</td>\n",
       "      <td>0.0</td>\n",
       "      <td>...</td>\n",
       "      <td>0.0</td>\n",
       "      <td>0.0</td>\n",
       "      <td>0.0</td>\n",
       "      <td>0.0</td>\n",
       "      <td>0.0</td>\n",
       "      <td>0.0</td>\n",
       "      <td>0.0</td>\n",
       "      <td>0.0</td>\n",
       "      <td>0.0</td>\n",
       "      <td>0.0</td>\n",
       "    </tr>\n",
       "  </tbody>\n",
       "</table>\n",
       "<p>25500 rows × 3000 columns</p>\n",
       "</div>"
      ],
      "text/plain": [
       "       0     1     2     3     4     5     6     7     8     9     ...  2990  \\\n",
       "0       0.0   0.0   0.0   0.0   0.0   0.0   0.0   0.0   0.0   0.0  ...   0.0   \n",
       "1       0.0   0.0   0.0   0.0   0.0   0.0   0.0   0.0   0.0   0.0  ...   0.0   \n",
       "2       0.0   0.0   0.0   0.0   0.0   0.0   0.0   0.0   0.0   0.0  ...   0.0   \n",
       "3       0.0   0.0   0.0   0.0   0.0   0.0   0.0   0.0   0.0   0.0  ...   0.0   \n",
       "4       0.0   0.0   0.0   0.0   0.0   0.0   0.0   0.0   0.0   0.0  ...   0.0   \n",
       "...     ...   ...   ...   ...   ...   ...   ...   ...   ...   ...  ...   ...   \n",
       "25495   0.0   0.0   0.0   0.0   0.0   0.0   0.0   0.0   0.0   0.0  ...   0.0   \n",
       "25496   0.0   0.0   0.0   0.0   0.0   0.0   0.0   0.0   0.0   0.0  ...   0.0   \n",
       "25497   0.0   0.0   0.0   0.0   0.0   0.0   0.0   0.0   0.0   0.0  ...   0.0   \n",
       "25498   0.0   0.0   0.0   0.0   0.0   0.0   0.0   0.0   0.0   0.0  ...   0.0   \n",
       "25499   0.0   0.0   0.0   0.0   0.0   0.0   0.0   0.0   0.0   0.0  ...   0.0   \n",
       "\n",
       "       2991  2992  2993  2994  2995  2996  2997  2998  2999  \n",
       "0       0.0   0.0   0.0   0.0   0.0   0.0   0.0   0.0   0.0  \n",
       "1       0.0   0.0   0.0   0.0   0.0   0.0   0.0   0.0   0.0  \n",
       "2       0.0   0.0   0.0   0.0   0.0   0.0   0.0   0.0   0.0  \n",
       "3       0.0   0.0   0.0   0.0   0.0   0.0   0.0   0.0   0.0  \n",
       "4       0.0   0.0   0.0   0.0   0.0   0.0   0.0   0.0   0.0  \n",
       "...     ...   ...   ...   ...   ...   ...   ...   ...   ...  \n",
       "25495   0.0   0.0   0.0   0.0   0.0   0.0   0.0   0.0   0.0  \n",
       "25496   0.0   0.0   0.0   0.0   0.0   0.0   0.0   0.0   0.0  \n",
       "25497   0.0   0.0   0.0   0.0   0.0   0.0   0.0   0.0   0.0  \n",
       "25498   0.0   0.0   0.0   0.0   0.0   0.0   0.0   0.0   0.0  \n",
       "25499   0.0   0.0   0.0   0.0   0.0   0.0   0.0   0.0   0.0  \n",
       "\n",
       "[25500 rows x 3000 columns]"
      ]
     },
     "execution_count": 101,
     "metadata": {},
     "output_type": "execute_result"
    }
   ],
   "source": [
    "tfidf_df"
   ]
  },
  {
   "cell_type": "code",
   "execution_count": 113,
   "id": "2648438c-becc-40db-a7d2-b8bb1a03fd0c",
   "metadata": {},
   "outputs": [],
   "source": [
    "# Transform matrix to array, flatten, and removes zeros\n",
    "\n",
    "tfidf_df = train_title_features.toarray().flatten()\n",
    "tfidf_df = tfidf_df[tfidf_df != 0]"
   ]
  },
  {
   "cell_type": "code",
   "execution_count": 119,
   "id": "205b3bb2-d7a4-4997-91dc-e345bd828a99",
   "metadata": {},
   "outputs": [
    {
     "data": {
      "image/png": "[encoded data removed]",
      "text/plain": [
       "<Figure size 640x480 with 1 Axes>"
      ]
     },
     "metadata": {},
     "output_type": "display_data"
    }
   ],
   "source": [
    "# Distribution of non-zero TF-IDF Scores\n",
    "\n",
    "sns.histplot(tfidf_df, bins=10, kde=True)\n",
    "plt.xlabel(\"TF-IDF Score\")\n",
    "plt.ylabel(\"Number of Words\")\n",
    "plt.title(\"Distribution of TF-IDF Scores in the Corpus\")\n",
    "plt.xticks(rotation=45)  # Optional: Rotate x-axis labels for long feature names\n",
    "plt.show()"
   ]
  },
  {
   "cell_type": "markdown",
   "id": "c30cf47b-7428-4762-a44a-33451f69311d",
   "metadata": {},
   "source": [
    "Note that our TF IDF distribution is right skew"
   ]
  },
  {
   "cell_type": "code",
   "execution_count": 122,
   "id": "d716a021-67be-41b5-8911-5c1c18825a79",
   "metadata": {},
   "outputs": [],
   "source": [
    "from feature_engine.outliers import Winsorizer\n",
    "from scipy.stats import mstats"
   ]
  },
  {
   "cell_type": "code",
   "execution_count": 135,
   "id": "95cf7fae-fe84-432d-af5f-b9537b9903f6",
   "metadata": {},
   "outputs": [
    {
     "data": {
      "image/png": "[encoded data removed]",
      "text/plain": [
       "<Figure size 640x480 with 1 Axes>"
      ]
     },
     "metadata": {},
     "output_type": "display_data"
    }
   ],
   "source": [
    "# Plot boxplot to find skewness\n",
    "\n",
    "sns.boxplot(df_train['title_length'], orient='h')\n",
    "plt.xlabel(\"title_length\")\n",
    "plt.title(\"Boxplot of Title Length\")  # Optional: Rotate x-axis labels for long feature names\n",
    "plt.show()"
   ]
  },
  {
   "cell_type": "markdown",
   "id": "400d895e-0bd3-4d4c-9c0f-44d482f59bf0",
   "metadata": {},
   "source": [
    "Confirms previous image indicating right skewness"
   ]
  },
  {
   "cell_type": "code",
   "execution_count": 123,
   "id": "2a261c00-1a44-45f9-ae10-d6369a59d128",
   "metadata": {},
   "outputs": [
    {
     "data": {
      "text/html": [
       "<style>#sk-container-id-1 {\n",
       "  /* Definition of color scheme common for light and dark mode */\n",
       "  --sklearn-color-text: black;\n",
       "  --sklearn-color-line: gray;\n",
       "  /* Definition of color scheme for unfitted estimators */\n",
       "  --sklearn-color-unfitted-level-0: #fff5e6;\n",
       "  --sklearn-color-unfitted-level-1: #f6e4d2;\n",
       "  --sklearn-color-unfitted-level-2: #ffe0b3;\n",
       "  --sklearn-color-unfitted-level-3: chocolate;\n",
       "  /* Definition of color scheme for fitted estimators */\n",
       "  --sklearn-color-fitted-level-0: #f0f8ff;\n",
       "  --sklearn-color-fitted-level-1: #d4ebff;\n",
       "  --sklearn-color-fitted-level-2: #b3dbfd;\n",
       "  --sklearn-color-fitted-level-3: cornflowerblue;\n",
       "\n",
       "  /* Specific color for light theme */\n",
       "  --sklearn-color-text-on-default-background: var(--sg-text-color, var(--theme-code-foreground, var(--jp-content-font-color1, black)));\n",
       "  --sklearn-color-background: var(--sg-background-color, var(--theme-background, var(--jp-layout-color0, white)));\n",
       "  --sklearn-color-border-box: var(--sg-text-color, var(--theme-code-foreground, var(--jp-content-font-color1, black)));\n",
       "  --sklearn-color-icon: #696969;\n",
       "\n",
       "  @media (prefers-color-scheme: dark) {\n",
       "    /* Redefinition of color scheme for dark theme */\n",
       "    --sklearn-color-text-on-default-background: var(--sg-text-color, var(--theme-code-foreground, var(--jp-content-font-color1, white)));\n",
       "    --sklearn-color-background: var(--sg-background-color, var(--theme-background, var(--jp-layout-color0, #111)));\n",
       "    --sklearn-color-border-box: var(--sg-text-color, var(--theme-code-foreground, var(--jp-content-font-color1, white)));\n",
       "    --sklearn-color-icon: #878787;\n",
       "  }\n",
       "}\n",
       "\n",
       "#sk-container-id-1 {\n",
       "  color: var(--sklearn-color-text);\n",
       "}\n",
       "\n",
       "#sk-container-id-1 pre {\n",
       "  padding: 0;\n",
       "}\n",
       "\n",
       "#sk-container-id-1 input.sk-hidden--visually {\n",
       "  border: 0;\n",
       "  clip: rect(1px 1px 1px 1px);\n",
       "  clip: rect(1px, 1px, 1px, 1px);\n",
       "  height: 1px;\n",
       "  margin: -1px;\n",
       "  overflow: hidden;\n",
       "  padding: 0;\n",
       "  position: absolute;\n",
       "  width: 1px;\n",
       "}\n",
       "\n",
       "#sk-container-id-1 div.sk-dashed-wrapped {\n",
       "  border: 1px dashed var(--sklearn-color-line);\n",
       "  margin: 0 0.4em 0.5em 0.4em;\n",
       "  box-sizing: border-box;\n",
       "  padding-bottom: 0.4em;\n",
       "  background-color: var(--sklearn-color-background);\n",
       "}\n",
       "\n",
       "#sk-container-id-1 div.sk-container {\n",
       "  /* jupyter's `normalize.less` sets `[hidden] { display: none; }`\n",
       "     but bootstrap.min.css set `[hidden] { display: none !important; }`\n",
       "     so we also need the `!important` here to be able to override the\n",
       "     default hidden behavior on the sphinx rendered scikit-learn.org.\n",
       "     See: https://github.com/scikit-learn/scikit-learn/issues/21755 */\n",
       "  display: inline-block !important;\n",
       "  position: relative;\n",
       "}\n",
       "\n",
       "#sk-container-id-1 div.sk-text-repr-fallback {\n",
       "  display: none;\n",
       "}\n",
       "\n",
       "div.sk-parallel-item,\n",
       "div.sk-serial,\n",
       "div.sk-item {\n",
       "  /* draw centered vertical line to link estimators */\n",
       "  background-image: linear-gradient(var(--sklearn-color-text-on-default-background), var(--sklearn-color-text-on-default-background));\n",
       "  background-size: 2px 100%;\n",
       "  background-repeat: no-repeat;\n",
       "  background-position: center center;\n",
       "}\n",
       "\n",
       "/* Parallel-specific style estimator block */\n",
       "\n",
       "#sk-container-id-1 div.sk-parallel-item::after {\n",
       "  content: \"\";\n",
       "  width: 100%;\n",
       "  border-bottom: 2px solid var(--sklearn-color-text-on-default-background);\n",
       "  flex-grow: 1;\n",
       "}\n",
       "\n",
       "#sk-container-id-1 div.sk-parallel {\n",
       "  display: flex;\n",
       "  align-items: stretch;\n",
       "  justify-content: center;\n",
       "  background-color: var(--sklearn-color-background);\n",
       "  position: relative;\n",
       "}\n",
       "\n",
       "#sk-container-id-1 div.sk-parallel-item {\n",
       "  display: flex;\n",
       "  flex-direction: column;\n",
       "}\n",
       "\n",
       "#sk-container-id-1 div.sk-parallel-item:first-child::after {\n",
       "  align-self: flex-end;\n",
       "  width: 50%;\n",
       "}\n",
       "\n",
       "#sk-container-id-1 div.sk-parallel-item:last-child::after {\n",
       "  align-self: flex-start;\n",
       "  width: 50%;\n",
       "}\n",
       "\n",
       "#sk-container-id-1 div.sk-parallel-item:only-child::after {\n",
       "  width: 0;\n",
       "}\n",
       "\n",
       "/* Serial-specific style estimator block */\n",
       "\n",
       "#sk-container-id-1 div.sk-serial {\n",
       "  display: flex;\n",
       "  flex-direction: column;\n",
       "  align-items: center;\n",
       "  background-color: var(--sklearn-color-background);\n",
       "  padding-right: 1em;\n",
       "  padding-left: 1em;\n",
       "}\n",
       "\n",
       "\n",
       "/* Toggleable style: style used for estimator/Pipeline/ColumnTransformer box that is\n",
       "clickable and can be expanded/collapsed.\n",
       "- Pipeline and ColumnTransformer use this feature and define the default style\n",
       "- Estimators will overwrite some part of the style using the `sk-estimator` class\n",
       "*/\n",
       "\n",
       "/* Pipeline and ColumnTransformer style (default) */\n",
       "\n",
       "#sk-container-id-1 div.sk-toggleable {\n",
       "  /* Default theme specific background. It is overwritten whether we have a\n",
       "  specific estimator or a Pipeline/ColumnTransformer */\n",
       "  background-color: var(--sklearn-color-background);\n",
       "}\n",
       "\n",
       "/* Toggleable label */\n",
       "#sk-container-id-1 label.sk-toggleable__label {\n",
       "  cursor: pointer;\n",
       "  display: block;\n",
       "  width: 100%;\n",
       "  margin-bottom: 0;\n",
       "  padding: 0.5em;\n",
       "  box-sizing: border-box;\n",
       "  text-align: center;\n",
       "}\n",
       "\n",
       "#sk-container-id-1 label.sk-toggleable__label-arrow:before {\n",
       "  /* Arrow on the left of the label */\n",
       "  content: \"▸\";\n",
       "  float: left;\n",
       "  margin-right: 0.25em;\n",
       "  color: var(--sklearn-color-icon);\n",
       "}\n",
       "\n",
       "#sk-container-id-1 label.sk-toggleable__label-arrow:hover:before {\n",
       "  color: var(--sklearn-color-text);\n",
       "}\n",
       "\n",
       "/* Toggleable content - dropdown */\n",
       "\n",
       "#sk-container-id-1 div.sk-toggleable__content {\n",
       "  max-height: 0;\n",
       "  max-width: 0;\n",
       "  overflow: hidden;\n",
       "  text-align: left;\n",
       "  /* unfitted */\n",
       "  background-color: var(--sklearn-color-unfitted-level-0);\n",
       "}\n",
       "\n",
       "#sk-container-id-1 div.sk-toggleable__content.fitted {\n",
       "  /* fitted */\n",
       "  background-color: var(--sklearn-color-fitted-level-0);\n",
       "}\n",
       "\n",
       "#sk-container-id-1 div.sk-toggleable__content pre {\n",
       "  margin: 0.2em;\n",
       "  border-radius: 0.25em;\n",
       "  color: var(--sklearn-color-text);\n",
       "  /* unfitted */\n",
       "  background-color: var(--sklearn-color-unfitted-level-0);\n",
       "}\n",
       "\n",
       "#sk-container-id-1 div.sk-toggleable__content.fitted pre {\n",
       "  /* unfitted */\n",
       "  background-color: var(--sklearn-color-fitted-level-0);\n",
       "}\n",
       "\n",
       "#sk-container-id-1 input.sk-toggleable__control:checked~div.sk-toggleable__content {\n",
       "  /* Expand drop-down */\n",
       "  max-height: 200px;\n",
       "  max-width: 100%;\n",
       "  overflow: auto;\n",
       "}\n",
       "\n",
       "#sk-container-id-1 input.sk-toggleable__control:checked~label.sk-toggleable__label-arrow:before {\n",
       "  content: \"▾\";\n",
       "}\n",
       "\n",
       "/* Pipeline/ColumnTransformer-specific style */\n",
       "\n",
       "#sk-container-id-1 div.sk-label input.sk-toggleable__control:checked~label.sk-toggleable__label {\n",
       "  color: var(--sklearn-color-text);\n",
       "  background-color: var(--sklearn-color-unfitted-level-2);\n",
       "}\n",
       "\n",
       "#sk-container-id-1 div.sk-label.fitted input.sk-toggleable__control:checked~label.sk-toggleable__label {\n",
       "  background-color: var(--sklearn-color-fitted-level-2);\n",
       "}\n",
       "\n",
       "/* Estimator-specific style */\n",
       "\n",
       "/* Colorize estimator box */\n",
       "#sk-container-id-1 div.sk-estimator input.sk-toggleable__control:checked~label.sk-toggleable__label {\n",
       "  /* unfitted */\n",
       "  background-color: var(--sklearn-color-unfitted-level-2);\n",
       "}\n",
       "\n",
       "#sk-container-id-1 div.sk-estimator.fitted input.sk-toggleable__control:checked~label.sk-toggleable__label {\n",
       "  /* fitted */\n",
       "  background-color: var(--sklearn-color-fitted-level-2);\n",
       "}\n",
       "\n",
       "#sk-container-id-1 div.sk-label label.sk-toggleable__label,\n",
       "#sk-container-id-1 div.sk-label label {\n",
       "  /* The background is the default theme color */\n",
       "  color: var(--sklearn-color-text-on-default-background);\n",
       "}\n",
       "\n",
       "/* On hover, darken the color of the background */\n",
       "#sk-container-id-1 div.sk-label:hover label.sk-toggleable__label {\n",
       "  color: var(--sklearn-color-text);\n",
       "  background-color: var(--sklearn-color-unfitted-level-2);\n",
       "}\n",
       "\n",
       "/* Label box, darken color on hover, fitted */\n",
       "#sk-container-id-1 div.sk-label.fitted:hover label.sk-toggleable__label.fitted {\n",
       "  color: var(--sklearn-color-text);\n",
       "  background-color: var(--sklearn-color-fitted-level-2);\n",
       "}\n",
       "\n",
       "/* Estimator label */\n",
       "\n",
       "#sk-container-id-1 div.sk-label label {\n",
       "  font-family: monospace;\n",
       "  font-weight: bold;\n",
       "  display: inline-block;\n",
       "  line-height: 1.2em;\n",
       "}\n",
       "\n",
       "#sk-container-id-1 div.sk-label-container {\n",
       "  text-align: center;\n",
       "}\n",
       "\n",
       "/* Estimator-specific */\n",
       "#sk-container-id-1 div.sk-estimator {\n",
       "  font-family: monospace;\n",
       "  border: 1px dotted var(--sklearn-color-border-box);\n",
       "  border-radius: 0.25em;\n",
       "  box-sizing: border-box;\n",
       "  margin-bottom: 0.5em;\n",
       "  /* unfitted */\n",
       "  background-color: var(--sklearn-color-unfitted-level-0);\n",
       "}\n",
       "\n",
       "#sk-container-id-1 div.sk-estimator.fitted {\n",
       "  /* fitted */\n",
       "  background-color: var(--sklearn-color-fitted-level-0);\n",
       "}\n",
       "\n",
       "/* on hover */\n",
       "#sk-container-id-1 div.sk-estimator:hover {\n",
       "  /* unfitted */\n",
       "  background-color: var(--sklearn-color-unfitted-level-2);\n",
       "}\n",
       "\n",
       "#sk-container-id-1 div.sk-estimator.fitted:hover {\n",
       "  /* fitted */\n",
       "  background-color: var(--sklearn-color-fitted-level-2);\n",
       "}\n",
       "\n",
       "/* Specification for estimator info (e.g. \"i\" and \"?\") */\n",
       "\n",
       "/* Common style for \"i\" and \"?\" */\n",
       "\n",
       ".sk-estimator-doc-link,\n",
       "a:link.sk-estimator-doc-link,\n",
       "a:visited.sk-estimator-doc-link {\n",
       "  float: right;\n",
       "  font-size: smaller;\n",
       "  line-height: 1em;\n",
       "  font-family: monospace;\n",
       "  background-color: var(--sklearn-color-background);\n",
       "  border-radius: 1em;\n",
       "  height: 1em;\n",
       "  width: 1em;\n",
       "  text-decoration: none !important;\n",
       "  margin-left: 1ex;\n",
       "  /* unfitted */\n",
       "  border: var(--sklearn-color-unfitted-level-1) 1pt solid;\n",
       "  color: var(--sklearn-color-unfitted-level-1);\n",
       "}\n",
       "\n",
       ".sk-estimator-doc-link.fitted,\n",
       "a:link.sk-estimator-doc-link.fitted,\n",
       "a:visited.sk-estimator-doc-link.fitted {\n",
       "  /* fitted */\n",
       "  border: var(--sklearn-color-fitted-level-1) 1pt solid;\n",
       "  color: var(--sklearn-color-fitted-level-1);\n",
       "}\n",
       "\n",
       "/* On hover */\n",
       "div.sk-estimator:hover .sk-estimator-doc-link:hover,\n",
       ".sk-estimator-doc-link:hover,\n",
       "div.sk-label-container:hover .sk-estimator-doc-link:hover,\n",
       ".sk-estimator-doc-link:hover {\n",
       "  /* unfitted */\n",
       "  background-color: var(--sklearn-color-unfitted-level-3);\n",
       "  color: var(--sklearn-color-background);\n",
       "  text-decoration: none;\n",
       "}\n",
       "\n",
       "div.sk-estimator.fitted:hover .sk-estimator-doc-link.fitted:hover,\n",
       ".sk-estimator-doc-link.fitted:hover,\n",
       "div.sk-label-container:hover .sk-estimator-doc-link.fitted:hover,\n",
       ".sk-estimator-doc-link.fitted:hover {\n",
       "  /* fitted */\n",
       "  background-color: var(--sklearn-color-fitted-level-3);\n",
       "  color: var(--sklearn-color-background);\n",
       "  text-decoration: none;\n",
       "}\n",
       "\n",
       "/* Span, style for the box shown on hovering the info icon */\n",
       ".sk-estimator-doc-link span {\n",
       "  display: none;\n",
       "  z-index: 9999;\n",
       "  position: relative;\n",
       "  font-weight: normal;\n",
       "  right: .2ex;\n",
       "  padding: .5ex;\n",
       "  margin: .5ex;\n",
       "  width: min-content;\n",
       "  min-width: 20ex;\n",
       "  max-width: 50ex;\n",
       "  color: var(--sklearn-color-text);\n",
       "  box-shadow: 2pt 2pt 4pt #999;\n",
       "  /* unfitted */\n",
       "  background: var(--sklearn-color-unfitted-level-0);\n",
       "  border: .5pt solid var(--sklearn-color-unfitted-level-3);\n",
       "}\n",
       "\n",
       ".sk-estimator-doc-link.fitted span {\n",
       "  /* fitted */\n",
       "  background: var(--sklearn-color-fitted-level-0);\n",
       "  border: var(--sklearn-color-fitted-level-3);\n",
       "}\n",
       "\n",
       ".sk-estimator-doc-link:hover span {\n",
       "  display: block;\n",
       "}\n",
       "\n",
       "/* \"?\"-specific style due to the `<a>` HTML tag */\n",
       "\n",
       "#sk-container-id-1 a.estimator_doc_link {\n",
       "  float: right;\n",
       "  font-size: 1rem;\n",
       "  line-height: 1em;\n",
       "  font-family: monospace;\n",
       "  background-color: var(--sklearn-color-background);\n",
       "  border-radius: 1rem;\n",
       "  height: 1rem;\n",
       "  width: 1rem;\n",
       "  text-decoration: none;\n",
       "  /* unfitted */\n",
       "  color: var(--sklearn-color-unfitted-level-1);\n",
       "  border: var(--sklearn-color-unfitted-level-1) 1pt solid;\n",
       "}\n",
       "\n",
       "#sk-container-id-1 a.estimator_doc_link.fitted {\n",
       "  /* fitted */\n",
       "  border: var(--sklearn-color-fitted-level-1) 1pt solid;\n",
       "  color: var(--sklearn-color-fitted-level-1);\n",
       "}\n",
       "\n",
       "/* On hover */\n",
       "#sk-container-id-1 a.estimator_doc_link:hover {\n",
       "  /* unfitted */\n",
       "  background-color: var(--sklearn-color-unfitted-level-3);\n",
       "  color: var(--sklearn-color-background);\n",
       "  text-decoration: none;\n",
       "}\n",
       "\n",
       "#sk-container-id-1 a.estimator_doc_link.fitted:hover {\n",
       "  /* fitted */\n",
       "  background-color: var(--sklearn-color-fitted-level-3);\n",
       "}\n",
       "</style><div id=\"sk-container-id-1\" class=\"sk-top-container\"><div class=\"sk-text-repr-fallback\"><pre>Winsorizer(fold=2)</pre><b>In a Jupyter environment, please rerun this cell to show the HTML representation or trust the notebook. <br />On GitHub, the HTML representation is unable to render, please try loading this page with nbviewer.org.</b></div><div class=\"sk-container\" hidden><div class=\"sk-item\"><div class=\"sk-estimator fitted sk-toggleable\"><input class=\"sk-toggleable__control sk-hidden--visually\" id=\"sk-estimator-id-1\" type=\"checkbox\" checked><label for=\"sk-estimator-id-1\" class=\"sk-toggleable__label fitted sk-toggleable__label-arrow fitted\">&nbsp;Winsorizer<span class=\"sk-estimator-doc-link fitted\">i<span>Fitted</span></span></label><div class=\"sk-toggleable__content fitted\"><pre>Winsorizer(fold=2)</pre></div> </div></div></div></div>"
      ],
      "text/plain": [
       "Winsorizer(fold=2)"
      ]
     },
     "execution_count": 123,
     "metadata": {},
     "output_type": "execute_result"
    }
   ],
   "source": [
    "# Winsorize the text length to handle outliers\n",
    "\n",
    "capper = Winsorizer(capping_method='gaussian', tail='right', fold=2)\n",
    "capper.fit(df_train)"
   ]
  },
  {
   "cell_type": "code",
   "execution_count": 124,
   "id": "2da52d1d-ccd4-4de8-b373-97da9f592f07",
   "metadata": {},
   "outputs": [
    {
     "data": {
      "text/plain": [
       "{'title_length': 9.395161382764899}"
      ]
     },
     "execution_count": 124,
     "metadata": {},
     "output_type": "execute_result"
    }
   ],
   "source": [
    "capper.right_tail_caps_"
   ]
  },
  {
   "cell_type": "code",
   "execution_count": 127,
   "id": "c67976cd-7084-454b-a860-a473e0fe3be7",
   "metadata": {},
   "outputs": [],
   "source": [
    "train_t = capper.transform(df_train)\n",
    "test_t = capper.transform(df_test)"
   ]
  },
  {
   "cell_type": "code",
   "execution_count": null,
   "id": "66974e4b-4c06-41db-a76d-526c7ad7a487",
   "metadata": {},
   "outputs": [],
   "source": [
    "sns.boxplot(train_t['title_length'], orient='h')\n",
    "plt.xlabel(\"title_length\")\n",
    "plt.title(\"Boxplot of Title Length\")  # Optional: Rotate x-axis labels for long feature names\n",
    "plt.show()"
   ]
  }
 ],
 "metadata": {
  "kernelspec": {
   "display_name": "venv",
   "language": "python",
   "name": "venv"
  },
  "language_info": {
   "codemirror_mode": {
    "name": "ipython",
    "version": 3
   },
   "file_extension": ".py",
   "mimetype": "text/x-python",
   "name": "python",
   "nbconvert_exporter": "python",
   "pygments_lexer": "ipython3",
   "version": "3.11.7"
  }
 },
 "nbformat": 4,
 "nbformat_minor": 5
}
