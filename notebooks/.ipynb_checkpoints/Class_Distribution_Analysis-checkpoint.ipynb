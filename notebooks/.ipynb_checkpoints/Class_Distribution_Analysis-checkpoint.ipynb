{
 "cells": [
  {
   "cell_type": "markdown",
   "id": "89ec08dd-7b31-4a30-804e-cc302aaed616",
   "metadata": {},
   "source": [
    "# Class Distribution Analysis"
   ]
  },
  {
   "cell_type": "code",
   "execution_count": null,
   "id": "f7a34ebd-f155-4063-8234-a1aac825695d",
   "metadata": {},
   "outputs": [],
   "source": [
    "import matplotlib.pyplot as plt\n",
    "import seaborn as sns\n",
    "\n",
    "# Load in data\n",
    "df = pd.read_csv(r'your/path/here/train.csv')\n",
    "\n",
    "# Split data\n",
    "df_train, df_test = train_test_split(df, test_size=.15, random_state=42)\n",
    "\n",
    "# Sum the counts of each index\n",
    "class_counts = df_train['Class Index'].value_counts().reset_index()\n",
    "\n",
    "# Visualize class distribution\n",
    "plt.figure(figsize=(10, 6))\n",
    "sns.barplot(data=class_counts, x='Class Index', y='count', hue='count')\n",
    "plt.title('Class Distribution')\n",
    "plt.xlabel('Category')\n",
    "plt.ylabel('Count')\n",
    "plt.xticks(rotation=45)\n",
    "plt.show()"
   ]
  },
  {
   "cell_type": "code",
   "execution_count": null,
   "id": "0bc82af3-8672-4dc2-b0e0-09ff6a470c0b",
   "metadata": {},
   "outputs": [],
   "source": [
    "# Summary statistics of class distribution\n",
    "\n",
    "class_balance = class_counts.describe()\n",
    "print(\"Class Balance:\")\n",
    "print(class_balance)"
   ]
  }
 ],
 "metadata": {
  "kernelspec": {
   "display_name": "venv",
   "language": "python",
   "name": "venv"
  },
  "language_info": {
   "codemirror_mode": {
    "name": "ipython",
    "version": 3
   },
   "file_extension": ".py",
   "mimetype": "text/x-python",
   "name": "python",
   "nbconvert_exporter": "python",
   "pygments_lexer": "ipython3",
   "version": "3.11.7"
  }
 },
 "nbformat": 4,
 "nbformat_minor": 5
}
