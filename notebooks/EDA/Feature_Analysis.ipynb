{
 "cells": [
  {
   "cell_type": "markdown",
   "id": "b3bf52d1-a170-405c-b2fe-837b70510b4d",
   "metadata": {},
   "source": [
    "# Feature Analysis"
   ]
  },
  {
   "cell_type": "code",
   "execution_count": null,
   "id": "80b6b08d-17e4-41bf-a618-cd2692afbd94",
   "metadata": {},
   "outputs": [],
   "source": [
    "import os\n",
    "from sklearn.feature_extraction.text import TfidfVectorizer\n",
    "from feature_engine.outliers import Winsorizer\n",
    "import seaborn as sns\n",
    "import matplotlib.pyplot as plt"
   ]
  },
  {
   "cell_type": "code",
   "execution_count": null,
   "id": "705b41f9-b179-4d25-92ee-385d049e33b9",
   "metadata": {},
   "outputs": [],
   "source": [
    "# Create feature data directory\n",
    "\n",
    "feature_data_dir = r'your\\path\\here\\features'\n",
    "os.makedirs(feature_data_dir, exist_ok=True)"
   ]
  },
  {
   "cell_type": "code",
   "execution_count": null,
   "id": "8e00cfc7-239d-47eb-88a5-bf4201a003be",
   "metadata": {},
   "outputs": [],
   "source": [
    "# TF-IDF Vectorization for Title\n",
    "\n",
    "tfidf_vectorizer = TfidfVectorizer(max_features=3000)  # we can play around with this. This was an arbitrary value\n",
    "train_title_features = tfidf_vectorizer.fit_transform(df_train['Title'])\n",
    "test_title_features = tfidf_vectorizer.transform(df_test['Title'])"
   ]
  },
  {
   "cell_type": "code",
   "execution_count": null,
   "id": "3a990e3d-4a8d-4b81-9c38-020b5f85695e",
   "metadata": {},
   "outputs": [],
   "source": [
    "# look at one of the matrices the vectorizer produces\n",
    "\n",
    "# print(df_train['Title'][98])\n",
    "# print(train_title_features.toarray()[98]) "
   ]
  },
  {
   "cell_type": "code",
   "execution_count": null,
   "id": "940efb70-445d-4078-84db-f031c758d9dd",
   "metadata": {},
   "outputs": [],
   "source": [
    "# Print our features\n",
    "\n",
    "features = tfidf_vectorizer.get_feature_names_out()\n",
    "print(tfidf_vectorizer.vocabulary_, end=' ')"
   ]
  },
  {
   "cell_type": "code",
   "execution_count": null,
   "id": "3eb429fc-d38a-47cc-bb37-275bbfd830ff",
   "metadata": {},
   "outputs": [],
   "source": [
    "# Confirm feature number\n",
    "\n",
    "print(len(features))"
   ]
  },
  {
   "cell_type": "code",
   "execution_count": null,
   "id": "94024219-3c56-4289-801f-334e480755b4",
   "metadata": {},
   "outputs": [],
   "source": [
    "#get TF IDF values as a dataframe\n",
    "\n",
    "tfidf_df = pd.DataFrame(train_title_features.toarray())"
   ]
  },
  {
   "cell_type": "code",
   "execution_count": null,
   "id": "24d478cc-260f-4e89-afb7-6a15db7b12d5",
   "metadata": {},
   "outputs": [],
   "source": [
    "# Transform matrix to array, flatten, and removes zeros\n",
    "\n",
    "tfidf_df = train_title_features.toarray().flatten()\n",
    "tfidf_df = tfidf_df[tfidf_df != 0]"
   ]
  },
  {
   "cell_type": "code",
   "execution_count": null,
   "id": "3cb93db3-9247-4b24-a8cc-6d8e1cc093ee",
   "metadata": {},
   "outputs": [],
   "source": [
    "# Distribution of non-zero TF-IDF Scores\n",
    "\n",
    "sns.histplot(tfidf_df, bins=10, kde=True)\n",
    "plt.xlabel(\"TF-IDF Score\")\n",
    "plt.ylabel(\"Number of Words\")\n",
    "plt.title(\"Distribution of TF-IDF Scores in the Corpus\")\n",
    "plt.xticks(rotation=45)  # Optional: Rotate x-axis labels for long feature names\n",
    "plt.show()"
   ]
  },
  {
   "cell_type": "code",
   "execution_count": null,
   "id": "b8f4aeb7-94c0-41aa-9134-c68e91df1040",
   "metadata": {},
   "outputs": [],
   "source": [
    "# Plot boxplot to find skewness\n",
    "\n",
    "sns.boxplot(df_train['Title Length'], orient='h')\n",
    "plt.xlabel(\"Title Length\")\n",
    "plt.title(\"Boxplot of Title Length\")  # Optional: Rotate x-axis labels for long feature names\n",
    "plt.show()"
   ]
  },
  {
   "cell_type": "markdown",
   "id": "e2b6d5d4-e106-4c51-9871-fbe2bb4d7209",
   "metadata": {},
   "source": [
    "Note that our TF IDF distribution is right skew"
   ]
  },
  {
   "cell_type": "code",
   "execution_count": null,
   "id": "f56510df-e2ea-4e0c-abb6-729a7befba73",
   "metadata": {},
   "outputs": [],
   "source": [
    "# Use the Winsorizer to handle outliers in the right tail\n",
    "\n",
    "capper = Winsorizer(capping_method='gaussian', tail='right', fold=2)\n",
    "capper.fit(df_train)"
   ]
  },
  {
   "cell_type": "code",
   "execution_count": null,
   "id": "51a949d4-a470-4ad6-8500-7e0cc78ee19d",
   "metadata": {},
   "outputs": [],
   "source": [
    "# Check where the right tail will be capped\n",
    "\n",
    "capper.right_tail_caps_"
   ]
  },
  {
   "cell_type": "code",
   "execution_count": null,
   "id": "46afeb74-3f43-4049-ad16-a18f5feca7dc",
   "metadata": {},
   "outputs": [],
   "source": [
    "# Transform both train and validation data frames\n",
    "\n",
    "train_t = capper.transform(df_train)\n",
    "test_t = capper.transform(df_val)"
   ]
  },
  {
   "cell_type": "code",
   "execution_count": null,
   "id": "dd439e55-3140-4736-8705-76c8ab1d5c9f",
   "metadata": {},
   "outputs": [],
   "source": [
    "# Check to see if the transform worked appropriately\n",
    "\n",
    "sns.boxplot(train_t['Title Length'], orient='h')\n",
    "plt.xlabel(\"Title Length\")\n",
    "plt.title(\"Boxplot of Title Length\")  # Optional: Rotate x-axis labels for long feature names\n",
    "plt.show()"
   ]
  },
  {
   "cell_type": "markdown",
   "id": "a867adcc-d5c4-4e0c-80ef-930a1b865ad2",
   "metadata": {},
   "source": [
    "Note that there are no outliers present in the dataset"
   ]
  }
 ],
 "metadata": {
  "kernelspec": {
   "display_name": "venv",
   "language": "python",
   "name": "venv"
  },
  "language_info": {
   "codemirror_mode": {
    "name": "ipython",
    "version": 3
   },
   "file_extension": ".py",
   "mimetype": "text/x-python",
   "name": "python",
   "nbconvert_exporter": "python",
   "pygments_lexer": "ipython3",
   "version": "3.11.7"
  }
 },
 "nbformat": 4,
 "nbformat_minor": 5
}
