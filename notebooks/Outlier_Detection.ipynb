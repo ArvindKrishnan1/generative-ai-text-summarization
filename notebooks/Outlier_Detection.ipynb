{
 "cells": [
  {
   "cell_type": "markdown",
   "id": "0030ce98-5746-497d-a514-8b20be250255",
   "metadata": {},
   "source": [
    "# Outlier Detection"
   ]
  },
  {
   "cell_type": "code",
   "execution_count": null,
   "id": "65c2613b-2a24-4ae9-bfac-e13180c4de84",
   "metadata": {},
   "outputs": [],
   "source": [
    "from feature_engine.outliers import Winsorizer"
   ]
  },
  {
   "cell_type": "code",
   "execution_count": null,
   "id": "e2b283df-196e-4455-8926-6befb44bf5dd",
   "metadata": {},
   "outputs": [],
   "source": [
    "# Plot boxplot to find skewness\n",
    "\n",
    "sns.boxplot(df_train['Title Length'], orient='h')\n",
    "plt.xlabel(\"Title Length\")\n",
    "plt.title(\"Boxplot of Title Length\")\n",
    "plt.show()"
   ]
  },
  {
   "cell_type": "code",
   "execution_count": null,
   "id": "8df7b9d4-5bc0-4dd5-8632-7087fc769561",
   "metadata": {},
   "outputs": [],
   "source": [
    "# Winsorize the text length to handle outliers\n",
    "\n",
    "capper = Winsorizer(capping_method='gaussian', tail='right', fold=2)\n",
    "capper.fit(df_train)"
   ]
  },
  {
   "cell_type": "code",
   "execution_count": null,
   "id": "e685143a-f07b-4d5f-8090-fb50c630a7ee",
   "metadata": {},
   "outputs": [],
   "source": [
    "# Transform both training and testing data\n",
    "\n",
    "train_t = capper.transform(df_train)\n",
    "test_t = capper.transform(df_test)"
   ]
  },
  {
   "cell_type": "code",
   "execution_count": null,
   "id": "52078502-2467-4dcf-a65e-d03cf7228266",
   "metadata": {},
   "outputs": [],
   "source": [
    "# Box plot to confirm skewness resolved\n",
    "\n",
    "sns.boxplot(train_t['Title Length'], orient='h')\n",
    "plt.xlabel(\"Title Length\")\n",
    "plt.title(\"Boxplot of Title Length\") \n",
    "plt.show()"
   ]
  }
 ],
 "metadata": {
  "kernelspec": {
   "display_name": "venv",
   "language": "python",
   "name": "venv"
  },
  "language_info": {
   "codemirror_mode": {
    "name": "ipython",
    "version": 3
   },
   "file_extension": ".py",
   "mimetype": "text/x-python",
   "name": "python",
   "nbconvert_exporter": "python",
   "pygments_lexer": "ipython3",
   "version": "3.11.7"
  }
 },
 "nbformat": 4,
 "nbformat_minor": 5
}
