{
 "cells": [
  {
   "cell_type": "markdown",
   "id": "a2ba1c28-58d5-4ac0-ac52-b88dc886656d",
   "metadata": {},
   "source": [
    "# Data Splitting"
   ]
  },
  {
   "cell_type": "code",
   "execution_count": null,
   "id": "bf95662c-c539-4d5b-95da-ce97a0ad598a",
   "metadata": {},
   "outputs": [],
   "source": []
  },
  {
   "cell_type": "code",
   "execution_count": null,
   "id": "593462fb-128d-4e0b-b1cf-87fe9053a83d",
   "metadata": {},
   "outputs": [],
   "source": [
    "# Split training data into training and validation data \n",
    "\n",
    "df_train, df_test = train_test_split(df, test_size=.15, random_state=42)"
   ]
  },
  {
   "cell_type": "code",
   "execution_count": null,
   "id": "99a99d8b-649e-4dba-a96e-03396d74a92d",
   "metadata": {},
   "outputs": [],
   "source": [
    "# Create csv file for train and test data\n",
    "\n",
    "df_train.to_csv(os.path.join(r'your\\path\\here', 'train.csv'), index=False)\n",
    "df_test.to_csv(os.path.join(r'your\\path\\here', 'test.csv'), index=False)"
   ]
  }
 ],
 "metadata": {
  "kernelspec": {
   "display_name": "venv",
   "language": "python",
   "name": "venv"
  },
  "language_info": {
   "codemirror_mode": {
    "name": "ipython",
    "version": 3
   },
   "file_extension": ".py",
   "mimetype": "text/x-python",
   "name": "python",
   "nbconvert_exporter": "python",
   "pygments_lexer": "ipython3",
   "version": "3.11.7"
  }
 },
 "nbformat": 4,
 "nbformat_minor": 5
}
